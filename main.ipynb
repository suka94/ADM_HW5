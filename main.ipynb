{
  "nbformat": 4,
  "nbformat_minor": 0,
  "metadata": {
    "colab": {
      "provenance": [],
      "include_colab_link": true
    },
    "kernelspec": {
      "name": "python3",
      "display_name": "Python 3"
    },
    "language_info": {
      "name": "python"
    }
  },
  "cells": [
    {
      "cell_type": "markdown",
      "metadata": {
        "id": "view-in-github",
        "colab_type": "text"
      },
      "source": [
        "<a href=\"https://colab.research.google.com/github/suka94/ADM_HW5/blob/main/main.ipynb\" target=\"_parent\"><img src=\"https://colab.research.google.com/assets/colab-badge.svg\" alt=\"Open In Colab\"/></a>"
      ]
    },
    {
      "cell_type": "markdown",
      "source": [
        "#**Homework 5 - The Marvel Universe!**"
      ],
      "metadata": {
        "id": "Mo9qxt2DkT6S"
      }
    },
    {
      "cell_type": "markdown",
      "source": [
        "##**1. Data**"
      ],
      "metadata": {
        "id": "FkUC3gdXkfxT"
      }
    },
    {
      "cell_type": "code",
      "source": [
        "import pandas as pd\n",
        "import networkx as nx\n",
        "from collections import defaultdict\n",
        "import matplotlib.pyplot as plt\n",
        "import pandas as pd\n",
        "import numpy as np\n",
        "import seaborn as sns\n",
        "from random import sample\n",
        "import re\n",
        "from itertools import combinations\n",
        "from collections import Counter\n",
        "import sys"
      ],
      "metadata": {
        "id": "-0X44NuUN5BS"
      },
      "execution_count": null,
      "outputs": []
    },
    {
      "cell_type": "code",
      "source": [
        "from google.colab import drive\n",
        "drive.mount('/content/drive')"
      ],
      "metadata": {
        "colab": {
          "base_uri": "https://localhost:8080/"
        },
        "id": "0Nw7b8RFN5Nu",
        "outputId": "bea80d67-90d6-44c3-d576-6f74a3d75b97"
      },
      "execution_count": null,
      "outputs": [
        {
          "output_type": "stream",
          "name": "stdout",
          "text": [
            "Mounted at /content/drive\n"
          ]
        }
      ]
    },
    {
      "cell_type": "code",
      "source": [
        "# Read in the nodes data\n",
        "nodes_df = pd.read_csv('/content/drive/MyDrive/ADM5/nodes.csv')\n",
        "nodes_df.head()\n"
      ],
      "metadata": {
        "colab": {
          "base_uri": "https://localhost:8080/",
          "height": 206
        },
        "id": "BRqY3VymN5RN",
        "outputId": "13cb3942-c74f-4269-e2a6-0ae314cc5b91"
      },
      "execution_count": null,
      "outputs": [
        {
          "output_type": "execute_result",
          "data": {
            "text/plain": [
              "                   node   type\n",
              "0               2001 10  comic\n",
              "1                2001 8  comic\n",
              "2                2001 9  comic\n",
              "3  24-HOUR MAN/EMMANUEL   hero\n",
              "4  3-D MAN/CHARLES CHAN   hero"
            ],
            "text/html": [
              "\n",
              "  <div id=\"df-c1afdba7-8483-4ed1-acd6-06d6dfce14d6\">\n",
              "    <div class=\"colab-df-container\">\n",
              "      <div>\n",
              "<style scoped>\n",
              "    .dataframe tbody tr th:only-of-type {\n",
              "        vertical-align: middle;\n",
              "    }\n",
              "\n",
              "    .dataframe tbody tr th {\n",
              "        vertical-align: top;\n",
              "    }\n",
              "\n",
              "    .dataframe thead th {\n",
              "        text-align: right;\n",
              "    }\n",
              "</style>\n",
              "<table border=\"1\" class=\"dataframe\">\n",
              "  <thead>\n",
              "    <tr style=\"text-align: right;\">\n",
              "      <th></th>\n",
              "      <th>node</th>\n",
              "      <th>type</th>\n",
              "    </tr>\n",
              "  </thead>\n",
              "  <tbody>\n",
              "    <tr>\n",
              "      <th>0</th>\n",
              "      <td>2001 10</td>\n",
              "      <td>comic</td>\n",
              "    </tr>\n",
              "    <tr>\n",
              "      <th>1</th>\n",
              "      <td>2001 8</td>\n",
              "      <td>comic</td>\n",
              "    </tr>\n",
              "    <tr>\n",
              "      <th>2</th>\n",
              "      <td>2001 9</td>\n",
              "      <td>comic</td>\n",
              "    </tr>\n",
              "    <tr>\n",
              "      <th>3</th>\n",
              "      <td>24-HOUR MAN/EMMANUEL</td>\n",
              "      <td>hero</td>\n",
              "    </tr>\n",
              "    <tr>\n",
              "      <th>4</th>\n",
              "      <td>3-D MAN/CHARLES CHAN</td>\n",
              "      <td>hero</td>\n",
              "    </tr>\n",
              "  </tbody>\n",
              "</table>\n",
              "</div>\n",
              "      <button class=\"colab-df-convert\" onclick=\"convertToInteractive('df-c1afdba7-8483-4ed1-acd6-06d6dfce14d6')\"\n",
              "              title=\"Convert this dataframe to an interactive table.\"\n",
              "              style=\"display:none;\">\n",
              "        \n",
              "  <svg xmlns=\"http://www.w3.org/2000/svg\" height=\"24px\"viewBox=\"0 0 24 24\"\n",
              "       width=\"24px\">\n",
              "    <path d=\"M0 0h24v24H0V0z\" fill=\"none\"/>\n",
              "    <path d=\"M18.56 5.44l.94 2.06.94-2.06 2.06-.94-2.06-.94-.94-2.06-.94 2.06-2.06.94zm-11 1L8.5 8.5l.94-2.06 2.06-.94-2.06-.94L8.5 2.5l-.94 2.06-2.06.94zm10 10l.94 2.06.94-2.06 2.06-.94-2.06-.94-.94-2.06-.94 2.06-2.06.94z\"/><path d=\"M17.41 7.96l-1.37-1.37c-.4-.4-.92-.59-1.43-.59-.52 0-1.04.2-1.43.59L10.3 9.45l-7.72 7.72c-.78.78-.78 2.05 0 2.83L4 21.41c.39.39.9.59 1.41.59.51 0 1.02-.2 1.41-.59l7.78-7.78 2.81-2.81c.8-.78.8-2.07 0-2.86zM5.41 20L4 18.59l7.72-7.72 1.47 1.35L5.41 20z\"/>\n",
              "  </svg>\n",
              "      </button>\n",
              "      \n",
              "  <style>\n",
              "    .colab-df-container {\n",
              "      display:flex;\n",
              "      flex-wrap:wrap;\n",
              "      gap: 12px;\n",
              "    }\n",
              "\n",
              "    .colab-df-convert {\n",
              "      background-color: #E8F0FE;\n",
              "      border: none;\n",
              "      border-radius: 50%;\n",
              "      cursor: pointer;\n",
              "      display: none;\n",
              "      fill: #1967D2;\n",
              "      height: 32px;\n",
              "      padding: 0 0 0 0;\n",
              "      width: 32px;\n",
              "    }\n",
              "\n",
              "    .colab-df-convert:hover {\n",
              "      background-color: #E2EBFA;\n",
              "      box-shadow: 0px 1px 2px rgba(60, 64, 67, 0.3), 0px 1px 3px 1px rgba(60, 64, 67, 0.15);\n",
              "      fill: #174EA6;\n",
              "    }\n",
              "\n",
              "    [theme=dark] .colab-df-convert {\n",
              "      background-color: #3B4455;\n",
              "      fill: #D2E3FC;\n",
              "    }\n",
              "\n",
              "    [theme=dark] .colab-df-convert:hover {\n",
              "      background-color: #434B5C;\n",
              "      box-shadow: 0px 1px 3px 1px rgba(0, 0, 0, 0.15);\n",
              "      filter: drop-shadow(0px 1px 2px rgba(0, 0, 0, 0.3));\n",
              "      fill: #FFFFFF;\n",
              "    }\n",
              "  </style>\n",
              "\n",
              "      <script>\n",
              "        const buttonEl =\n",
              "          document.querySelector('#df-c1afdba7-8483-4ed1-acd6-06d6dfce14d6 button.colab-df-convert');\n",
              "        buttonEl.style.display =\n",
              "          google.colab.kernel.accessAllowed ? 'block' : 'none';\n",
              "\n",
              "        async function convertToInteractive(key) {\n",
              "          const element = document.querySelector('#df-c1afdba7-8483-4ed1-acd6-06d6dfce14d6');\n",
              "          const dataTable =\n",
              "            await google.colab.kernel.invokeFunction('convertToInteractive',\n",
              "                                                     [key], {});\n",
              "          if (!dataTable) return;\n",
              "\n",
              "          const docLinkHtml = 'Like what you see? Visit the ' +\n",
              "            '<a target=\"_blank\" href=https://colab.research.google.com/notebooks/data_table.ipynb>data table notebook</a>'\n",
              "            + ' to learn more about interactive tables.';\n",
              "          element.innerHTML = '';\n",
              "          dataTable['output_type'] = 'display_data';\n",
              "          await google.colab.output.renderOutput(dataTable, element);\n",
              "          const docLink = document.createElement('div');\n",
              "          docLink.innerHTML = docLinkHtml;\n",
              "          element.appendChild(docLink);\n",
              "        }\n",
              "      </script>\n",
              "    </div>\n",
              "  </div>\n",
              "  "
            ]
          },
          "metadata": {},
          "execution_count": 3
        }
      ]
    },
    {
      "cell_type": "code",
      "source": [
        "edges_df = pd.read_csv('/content/drive/MyDrive/ADM5/edges.csv')\n",
        "edges_df.head()"
      ],
      "metadata": {
        "colab": {
          "base_uri": "https://localhost:8080/",
          "height": 206
        },
        "id": "k8VoDbA7SOoP",
        "outputId": "bd1dd986-9cd4-4261-a56b-27f98e2df695"
      },
      "execution_count": null,
      "outputs": [
        {
          "output_type": "execute_result",
          "data": {
            "text/plain": [
              "                   hero   comic\n",
              "0  24-HOUR MAN/EMMANUEL  AA2 35\n",
              "1  3-D MAN/CHARLES CHAN   AVF 4\n",
              "2  3-D MAN/CHARLES CHAN   AVF 5\n",
              "3  3-D MAN/CHARLES CHAN   COC 1\n",
              "4  3-D MAN/CHARLES CHAN  H2 251"
            ],
            "text/html": [
              "\n",
              "  <div id=\"df-3a4bba7e-9198-47ed-b7c1-c45c9ac9f1ae\">\n",
              "    <div class=\"colab-df-container\">\n",
              "      <div>\n",
              "<style scoped>\n",
              "    .dataframe tbody tr th:only-of-type {\n",
              "        vertical-align: middle;\n",
              "    }\n",
              "\n",
              "    .dataframe tbody tr th {\n",
              "        vertical-align: top;\n",
              "    }\n",
              "\n",
              "    .dataframe thead th {\n",
              "        text-align: right;\n",
              "    }\n",
              "</style>\n",
              "<table border=\"1\" class=\"dataframe\">\n",
              "  <thead>\n",
              "    <tr style=\"text-align: right;\">\n",
              "      <th></th>\n",
              "      <th>hero</th>\n",
              "      <th>comic</th>\n",
              "    </tr>\n",
              "  </thead>\n",
              "  <tbody>\n",
              "    <tr>\n",
              "      <th>0</th>\n",
              "      <td>24-HOUR MAN/EMMANUEL</td>\n",
              "      <td>AA2 35</td>\n",
              "    </tr>\n",
              "    <tr>\n",
              "      <th>1</th>\n",
              "      <td>3-D MAN/CHARLES CHAN</td>\n",
              "      <td>AVF 4</td>\n",
              "    </tr>\n",
              "    <tr>\n",
              "      <th>2</th>\n",
              "      <td>3-D MAN/CHARLES CHAN</td>\n",
              "      <td>AVF 5</td>\n",
              "    </tr>\n",
              "    <tr>\n",
              "      <th>3</th>\n",
              "      <td>3-D MAN/CHARLES CHAN</td>\n",
              "      <td>COC 1</td>\n",
              "    </tr>\n",
              "    <tr>\n",
              "      <th>4</th>\n",
              "      <td>3-D MAN/CHARLES CHAN</td>\n",
              "      <td>H2 251</td>\n",
              "    </tr>\n",
              "  </tbody>\n",
              "</table>\n",
              "</div>\n",
              "      <button class=\"colab-df-convert\" onclick=\"convertToInteractive('df-3a4bba7e-9198-47ed-b7c1-c45c9ac9f1ae')\"\n",
              "              title=\"Convert this dataframe to an interactive table.\"\n",
              "              style=\"display:none;\">\n",
              "        \n",
              "  <svg xmlns=\"http://www.w3.org/2000/svg\" height=\"24px\"viewBox=\"0 0 24 24\"\n",
              "       width=\"24px\">\n",
              "    <path d=\"M0 0h24v24H0V0z\" fill=\"none\"/>\n",
              "    <path d=\"M18.56 5.44l.94 2.06.94-2.06 2.06-.94-2.06-.94-.94-2.06-.94 2.06-2.06.94zm-11 1L8.5 8.5l.94-2.06 2.06-.94-2.06-.94L8.5 2.5l-.94 2.06-2.06.94zm10 10l.94 2.06.94-2.06 2.06-.94-2.06-.94-.94-2.06-.94 2.06-2.06.94z\"/><path d=\"M17.41 7.96l-1.37-1.37c-.4-.4-.92-.59-1.43-.59-.52 0-1.04.2-1.43.59L10.3 9.45l-7.72 7.72c-.78.78-.78 2.05 0 2.83L4 21.41c.39.39.9.59 1.41.59.51 0 1.02-.2 1.41-.59l7.78-7.78 2.81-2.81c.8-.78.8-2.07 0-2.86zM5.41 20L4 18.59l7.72-7.72 1.47 1.35L5.41 20z\"/>\n",
              "  </svg>\n",
              "      </button>\n",
              "      \n",
              "  <style>\n",
              "    .colab-df-container {\n",
              "      display:flex;\n",
              "      flex-wrap:wrap;\n",
              "      gap: 12px;\n",
              "    }\n",
              "\n",
              "    .colab-df-convert {\n",
              "      background-color: #E8F0FE;\n",
              "      border: none;\n",
              "      border-radius: 50%;\n",
              "      cursor: pointer;\n",
              "      display: none;\n",
              "      fill: #1967D2;\n",
              "      height: 32px;\n",
              "      padding: 0 0 0 0;\n",
              "      width: 32px;\n",
              "    }\n",
              "\n",
              "    .colab-df-convert:hover {\n",
              "      background-color: #E2EBFA;\n",
              "      box-shadow: 0px 1px 2px rgba(60, 64, 67, 0.3), 0px 1px 3px 1px rgba(60, 64, 67, 0.15);\n",
              "      fill: #174EA6;\n",
              "    }\n",
              "\n",
              "    [theme=dark] .colab-df-convert {\n",
              "      background-color: #3B4455;\n",
              "      fill: #D2E3FC;\n",
              "    }\n",
              "\n",
              "    [theme=dark] .colab-df-convert:hover {\n",
              "      background-color: #434B5C;\n",
              "      box-shadow: 0px 1px 3px 1px rgba(0, 0, 0, 0.15);\n",
              "      filter: drop-shadow(0px 1px 2px rgba(0, 0, 0, 0.3));\n",
              "      fill: #FFFFFF;\n",
              "    }\n",
              "  </style>\n",
              "\n",
              "      <script>\n",
              "        const buttonEl =\n",
              "          document.querySelector('#df-3a4bba7e-9198-47ed-b7c1-c45c9ac9f1ae button.colab-df-convert');\n",
              "        buttonEl.style.display =\n",
              "          google.colab.kernel.accessAllowed ? 'block' : 'none';\n",
              "\n",
              "        async function convertToInteractive(key) {\n",
              "          const element = document.querySelector('#df-3a4bba7e-9198-47ed-b7c1-c45c9ac9f1ae');\n",
              "          const dataTable =\n",
              "            await google.colab.kernel.invokeFunction('convertToInteractive',\n",
              "                                                     [key], {});\n",
              "          if (!dataTable) return;\n",
              "\n",
              "          const docLinkHtml = 'Like what you see? Visit the ' +\n",
              "            '<a target=\"_blank\" href=https://colab.research.google.com/notebooks/data_table.ipynb>data table notebook</a>'\n",
              "            + ' to learn more about interactive tables.';\n",
              "          element.innerHTML = '';\n",
              "          dataTable['output_type'] = 'display_data';\n",
              "          await google.colab.output.renderOutput(dataTable, element);\n",
              "          const docLink = document.createElement('div');\n",
              "          docLink.innerHTML = docLinkHtml;\n",
              "          element.appendChild(docLink);\n",
              "        }\n",
              "      </script>\n",
              "    </div>\n",
              "  </div>\n",
              "  "
            ]
          },
          "metadata": {},
          "execution_count": 4
        }
      ]
    },
    {
      "cell_type": "code",
      "source": [
        "hero_network_df = pd.read_csv('/content/drive/MyDrive/ADM5/hero-network.csv')\n",
        "hero_network_df.head()"
      ],
      "metadata": {
        "colab": {
          "base_uri": "https://localhost:8080/",
          "height": 206
        },
        "id": "YBVmYaIzSOqw",
        "outputId": "21ef649e-b2ab-48d2-b916-f9aa091d90df"
      },
      "execution_count": null,
      "outputs": [
        {
          "output_type": "execute_result",
          "data": {
            "text/plain": [
              "                  hero1                 hero2\n",
              "0         LITTLE, ABNER        PRINCESS ZANDA\n",
              "1         LITTLE, ABNER  BLACK PANTHER/T'CHAL\n",
              "2  BLACK PANTHER/T'CHAL        PRINCESS ZANDA\n",
              "3         LITTLE, ABNER        PRINCESS ZANDA\n",
              "4         LITTLE, ABNER  BLACK PANTHER/T'CHAL"
            ],
            "text/html": [
              "\n",
              "  <div id=\"df-a8cb80cc-2ab1-4aa4-aed0-efdcb3b1bdab\">\n",
              "    <div class=\"colab-df-container\">\n",
              "      <div>\n",
              "<style scoped>\n",
              "    .dataframe tbody tr th:only-of-type {\n",
              "        vertical-align: middle;\n",
              "    }\n",
              "\n",
              "    .dataframe tbody tr th {\n",
              "        vertical-align: top;\n",
              "    }\n",
              "\n",
              "    .dataframe thead th {\n",
              "        text-align: right;\n",
              "    }\n",
              "</style>\n",
              "<table border=\"1\" class=\"dataframe\">\n",
              "  <thead>\n",
              "    <tr style=\"text-align: right;\">\n",
              "      <th></th>\n",
              "      <th>hero1</th>\n",
              "      <th>hero2</th>\n",
              "    </tr>\n",
              "  </thead>\n",
              "  <tbody>\n",
              "    <tr>\n",
              "      <th>0</th>\n",
              "      <td>LITTLE, ABNER</td>\n",
              "      <td>PRINCESS ZANDA</td>\n",
              "    </tr>\n",
              "    <tr>\n",
              "      <th>1</th>\n",
              "      <td>LITTLE, ABNER</td>\n",
              "      <td>BLACK PANTHER/T'CHAL</td>\n",
              "    </tr>\n",
              "    <tr>\n",
              "      <th>2</th>\n",
              "      <td>BLACK PANTHER/T'CHAL</td>\n",
              "      <td>PRINCESS ZANDA</td>\n",
              "    </tr>\n",
              "    <tr>\n",
              "      <th>3</th>\n",
              "      <td>LITTLE, ABNER</td>\n",
              "      <td>PRINCESS ZANDA</td>\n",
              "    </tr>\n",
              "    <tr>\n",
              "      <th>4</th>\n",
              "      <td>LITTLE, ABNER</td>\n",
              "      <td>BLACK PANTHER/T'CHAL</td>\n",
              "    </tr>\n",
              "  </tbody>\n",
              "</table>\n",
              "</div>\n",
              "      <button class=\"colab-df-convert\" onclick=\"convertToInteractive('df-a8cb80cc-2ab1-4aa4-aed0-efdcb3b1bdab')\"\n",
              "              title=\"Convert this dataframe to an interactive table.\"\n",
              "              style=\"display:none;\">\n",
              "        \n",
              "  <svg xmlns=\"http://www.w3.org/2000/svg\" height=\"24px\"viewBox=\"0 0 24 24\"\n",
              "       width=\"24px\">\n",
              "    <path d=\"M0 0h24v24H0V0z\" fill=\"none\"/>\n",
              "    <path d=\"M18.56 5.44l.94 2.06.94-2.06 2.06-.94-2.06-.94-.94-2.06-.94 2.06-2.06.94zm-11 1L8.5 8.5l.94-2.06 2.06-.94-2.06-.94L8.5 2.5l-.94 2.06-2.06.94zm10 10l.94 2.06.94-2.06 2.06-.94-2.06-.94-.94-2.06-.94 2.06-2.06.94z\"/><path d=\"M17.41 7.96l-1.37-1.37c-.4-.4-.92-.59-1.43-.59-.52 0-1.04.2-1.43.59L10.3 9.45l-7.72 7.72c-.78.78-.78 2.05 0 2.83L4 21.41c.39.39.9.59 1.41.59.51 0 1.02-.2 1.41-.59l7.78-7.78 2.81-2.81c.8-.78.8-2.07 0-2.86zM5.41 20L4 18.59l7.72-7.72 1.47 1.35L5.41 20z\"/>\n",
              "  </svg>\n",
              "      </button>\n",
              "      \n",
              "  <style>\n",
              "    .colab-df-container {\n",
              "      display:flex;\n",
              "      flex-wrap:wrap;\n",
              "      gap: 12px;\n",
              "    }\n",
              "\n",
              "    .colab-df-convert {\n",
              "      background-color: #E8F0FE;\n",
              "      border: none;\n",
              "      border-radius: 50%;\n",
              "      cursor: pointer;\n",
              "      display: none;\n",
              "      fill: #1967D2;\n",
              "      height: 32px;\n",
              "      padding: 0 0 0 0;\n",
              "      width: 32px;\n",
              "    }\n",
              "\n",
              "    .colab-df-convert:hover {\n",
              "      background-color: #E2EBFA;\n",
              "      box-shadow: 0px 1px 2px rgba(60, 64, 67, 0.3), 0px 1px 3px 1px rgba(60, 64, 67, 0.15);\n",
              "      fill: #174EA6;\n",
              "    }\n",
              "\n",
              "    [theme=dark] .colab-df-convert {\n",
              "      background-color: #3B4455;\n",
              "      fill: #D2E3FC;\n",
              "    }\n",
              "\n",
              "    [theme=dark] .colab-df-convert:hover {\n",
              "      background-color: #434B5C;\n",
              "      box-shadow: 0px 1px 3px 1px rgba(0, 0, 0, 0.15);\n",
              "      filter: drop-shadow(0px 1px 2px rgba(0, 0, 0, 0.3));\n",
              "      fill: #FFFFFF;\n",
              "    }\n",
              "  </style>\n",
              "\n",
              "      <script>\n",
              "        const buttonEl =\n",
              "          document.querySelector('#df-a8cb80cc-2ab1-4aa4-aed0-efdcb3b1bdab button.colab-df-convert');\n",
              "        buttonEl.style.display =\n",
              "          google.colab.kernel.accessAllowed ? 'block' : 'none';\n",
              "\n",
              "        async function convertToInteractive(key) {\n",
              "          const element = document.querySelector('#df-a8cb80cc-2ab1-4aa4-aed0-efdcb3b1bdab');\n",
              "          const dataTable =\n",
              "            await google.colab.kernel.invokeFunction('convertToInteractive',\n",
              "                                                     [key], {});\n",
              "          if (!dataTable) return;\n",
              "\n",
              "          const docLinkHtml = 'Like what you see? Visit the ' +\n",
              "            '<a target=\"_blank\" href=https://colab.research.google.com/notebooks/data_table.ipynb>data table notebook</a>'\n",
              "            + ' to learn more about interactive tables.';\n",
              "          element.innerHTML = '';\n",
              "          dataTable['output_type'] = 'display_data';\n",
              "          await google.colab.output.renderOutput(dataTable, element);\n",
              "          const docLink = document.createElement('div');\n",
              "          docLink.innerHTML = docLinkHtml;\n",
              "          element.appendChild(docLink);\n",
              "        }\n",
              "      </script>\n",
              "    </div>\n",
              "  </div>\n",
              "  "
            ]
          },
          "metadata": {},
          "execution_count": 5
        }
      ]
    },
    {
      "cell_type": "code",
      "source": [
        "hero_network_df['hero1'] = hero_network_df['hero1'].str.strip().str.replace(' /', ' ')\n",
        "hero_network_df['hero2'] = hero_network_df['hero2'].str.strip().str.replace(' /', ' ')\n",
        "hero_network_df['hero1'] = hero_network_df['hero1'].str.strip().str.replace('/ ', ' ')\n",
        "hero_network_df['hero2'] = hero_network_df['hero2'].str.strip().str.replace('/ ', ' ')\n",
        "hero_network_df['hero1'] = hero_network_df['hero1'].replace('SPIDER-MAN/PETER PAR', 'SPIDER-MAN/PETER PARKER')\n",
        "hero_network_df['hero2'] = hero_network_df['hero2'].replace('SPIDER-MAN/PETER PAR', 'SPIDER-MAN/PETER PARKER')\n"
      ],
      "metadata": {
        "id": "2e5AVHFxSOtW"
      },
      "execution_count": null,
      "outputs": []
    },
    {
      "cell_type": "code",
      "source": [
        "# Remove self-loops from hero_network_df\n",
        "hero_network_df = hero_network_df[hero_network_df['hero1'] != hero_network_df['hero2']]\n",
        "\n",
        "hero_network_df.head()"
      ],
      "metadata": {
        "id": "3HXRbu9KSOwA",
        "colab": {
          "base_uri": "https://localhost:8080/",
          "height": 206
        },
        "outputId": "e0b2d07f-dec8-46d7-e31f-b5de691c2b4e"
      },
      "execution_count": null,
      "outputs": [
        {
          "output_type": "execute_result",
          "data": {
            "text/plain": [
              "                  hero1                 hero2\n",
              "0         LITTLE, ABNER        PRINCESS ZANDA\n",
              "1         LITTLE, ABNER  BLACK PANTHER/T'CHAL\n",
              "2  BLACK PANTHER/T'CHAL        PRINCESS ZANDA\n",
              "3         LITTLE, ABNER        PRINCESS ZANDA\n",
              "4         LITTLE, ABNER  BLACK PANTHER/T'CHAL"
            ],
            "text/html": [
              "\n",
              "  <div id=\"df-7d9a9a2a-eb89-48df-a72d-d86a5bf9c745\">\n",
              "    <div class=\"colab-df-container\">\n",
              "      <div>\n",
              "<style scoped>\n",
              "    .dataframe tbody tr th:only-of-type {\n",
              "        vertical-align: middle;\n",
              "    }\n",
              "\n",
              "    .dataframe tbody tr th {\n",
              "        vertical-align: top;\n",
              "    }\n",
              "\n",
              "    .dataframe thead th {\n",
              "        text-align: right;\n",
              "    }\n",
              "</style>\n",
              "<table border=\"1\" class=\"dataframe\">\n",
              "  <thead>\n",
              "    <tr style=\"text-align: right;\">\n",
              "      <th></th>\n",
              "      <th>hero1</th>\n",
              "      <th>hero2</th>\n",
              "    </tr>\n",
              "  </thead>\n",
              "  <tbody>\n",
              "    <tr>\n",
              "      <th>0</th>\n",
              "      <td>LITTLE, ABNER</td>\n",
              "      <td>PRINCESS ZANDA</td>\n",
              "    </tr>\n",
              "    <tr>\n",
              "      <th>1</th>\n",
              "      <td>LITTLE, ABNER</td>\n",
              "      <td>BLACK PANTHER/T'CHAL</td>\n",
              "    </tr>\n",
              "    <tr>\n",
              "      <th>2</th>\n",
              "      <td>BLACK PANTHER/T'CHAL</td>\n",
              "      <td>PRINCESS ZANDA</td>\n",
              "    </tr>\n",
              "    <tr>\n",
              "      <th>3</th>\n",
              "      <td>LITTLE, ABNER</td>\n",
              "      <td>PRINCESS ZANDA</td>\n",
              "    </tr>\n",
              "    <tr>\n",
              "      <th>4</th>\n",
              "      <td>LITTLE, ABNER</td>\n",
              "      <td>BLACK PANTHER/T'CHAL</td>\n",
              "    </tr>\n",
              "  </tbody>\n",
              "</table>\n",
              "</div>\n",
              "      <button class=\"colab-df-convert\" onclick=\"convertToInteractive('df-7d9a9a2a-eb89-48df-a72d-d86a5bf9c745')\"\n",
              "              title=\"Convert this dataframe to an interactive table.\"\n",
              "              style=\"display:none;\">\n",
              "        \n",
              "  <svg xmlns=\"http://www.w3.org/2000/svg\" height=\"24px\"viewBox=\"0 0 24 24\"\n",
              "       width=\"24px\">\n",
              "    <path d=\"M0 0h24v24H0V0z\" fill=\"none\"/>\n",
              "    <path d=\"M18.56 5.44l.94 2.06.94-2.06 2.06-.94-2.06-.94-.94-2.06-.94 2.06-2.06.94zm-11 1L8.5 8.5l.94-2.06 2.06-.94-2.06-.94L8.5 2.5l-.94 2.06-2.06.94zm10 10l.94 2.06.94-2.06 2.06-.94-2.06-.94-.94-2.06-.94 2.06-2.06.94z\"/><path d=\"M17.41 7.96l-1.37-1.37c-.4-.4-.92-.59-1.43-.59-.52 0-1.04.2-1.43.59L10.3 9.45l-7.72 7.72c-.78.78-.78 2.05 0 2.83L4 21.41c.39.39.9.59 1.41.59.51 0 1.02-.2 1.41-.59l7.78-7.78 2.81-2.81c.8-.78.8-2.07 0-2.86zM5.41 20L4 18.59l7.72-7.72 1.47 1.35L5.41 20z\"/>\n",
              "  </svg>\n",
              "      </button>\n",
              "      \n",
              "  <style>\n",
              "    .colab-df-container {\n",
              "      display:flex;\n",
              "      flex-wrap:wrap;\n",
              "      gap: 12px;\n",
              "    }\n",
              "\n",
              "    .colab-df-convert {\n",
              "      background-color: #E8F0FE;\n",
              "      border: none;\n",
              "      border-radius: 50%;\n",
              "      cursor: pointer;\n",
              "      display: none;\n",
              "      fill: #1967D2;\n",
              "      height: 32px;\n",
              "      padding: 0 0 0 0;\n",
              "      width: 32px;\n",
              "    }\n",
              "\n",
              "    .colab-df-convert:hover {\n",
              "      background-color: #E2EBFA;\n",
              "      box-shadow: 0px 1px 2px rgba(60, 64, 67, 0.3), 0px 1px 3px 1px rgba(60, 64, 67, 0.15);\n",
              "      fill: #174EA6;\n",
              "    }\n",
              "\n",
              "    [theme=dark] .colab-df-convert {\n",
              "      background-color: #3B4455;\n",
              "      fill: #D2E3FC;\n",
              "    }\n",
              "\n",
              "    [theme=dark] .colab-df-convert:hover {\n",
              "      background-color: #434B5C;\n",
              "      box-shadow: 0px 1px 3px 1px rgba(0, 0, 0, 0.15);\n",
              "      filter: drop-shadow(0px 1px 2px rgba(0, 0, 0, 0.3));\n",
              "      fill: #FFFFFF;\n",
              "    }\n",
              "  </style>\n",
              "\n",
              "      <script>\n",
              "        const buttonEl =\n",
              "          document.querySelector('#df-7d9a9a2a-eb89-48df-a72d-d86a5bf9c745 button.colab-df-convert');\n",
              "        buttonEl.style.display =\n",
              "          google.colab.kernel.accessAllowed ? 'block' : 'none';\n",
              "\n",
              "        async function convertToInteractive(key) {\n",
              "          const element = document.querySelector('#df-7d9a9a2a-eb89-48df-a72d-d86a5bf9c745');\n",
              "          const dataTable =\n",
              "            await google.colab.kernel.invokeFunction('convertToInteractive',\n",
              "                                                     [key], {});\n",
              "          if (!dataTable) return;\n",
              "\n",
              "          const docLinkHtml = 'Like what you see? Visit the ' +\n",
              "            '<a target=\"_blank\" href=https://colab.research.google.com/notebooks/data_table.ipynb>data table notebook</a>'\n",
              "            + ' to learn more about interactive tables.';\n",
              "          element.innerHTML = '';\n",
              "          dataTable['output_type'] = 'display_data';\n",
              "          await google.colab.output.renderOutput(dataTable, element);\n",
              "          const docLink = document.createElement('div');\n",
              "          docLink.innerHTML = docLinkHtml;\n",
              "          element.appendChild(docLink);\n",
              "        }\n",
              "      </script>\n",
              "    </div>\n",
              "  </div>\n",
              "  "
            ]
          },
          "metadata": {},
          "execution_count": 7
        }
      ]
    },
    {
      "cell_type": "code",
      "source": [
        "collaboration_counts = defaultdict(int)\n",
        "G1 = nx.MultiDiGraph()\n",
        "\n",
        "for _, row in hero_network_df.iterrows():\n",
        "    hero1, hero2 = row['hero1'], row['hero2']\n",
        "    collaboration_counts[(hero1, hero2)] += 1\n",
        "    # Add the two hero nodes to the graph if they don't already exist\n",
        "    if hero1 not in G1:\n",
        "        G1.add_node(hero1)\n",
        "    if hero2 not in G1:\n",
        "        G1.add_node(hero2)\n",
        "    # Add an edge between the two hero nodes with a weight equal to the number of collaborations\n",
        "    count = collaboration_counts[(hero1, hero2)]\n",
        "    G1.add_edge(hero1, hero2, weight=count)"
      ],
      "metadata": {
        "id": "XB45Mx8FSynY"
      },
      "execution_count": null,
      "outputs": []
    },
    {
      "cell_type": "code",
      "source": [
        "G2 = nx.Graph()\n",
        "\n",
        "for _, row in nodes_df.iterrows():\n",
        "    G2.add_node(row['node'], type=row['type'])\n"
      ],
      "metadata": {
        "id": "zWj_z9dgSy0I"
      },
      "execution_count": null,
      "outputs": []
    },
    {
      "cell_type": "code",
      "source": [
        "for _, row in edges_df.iterrows():\n",
        "    G2.add_edge(row['hero'], row['comic'])\n"
      ],
      "metadata": {
        "id": "rit9LhHTSOyu"
      },
      "execution_count": null,
      "outputs": []
    },
    {
      "cell_type": "code",
      "source": [
        "nx.write_gml(G1, '/content/drive/MyDrive/ADM5/G1.gml')\n",
        "nx.write_gml(G2, '/content/drive/MyDrive/ADM5/G2.gml')"
      ],
      "metadata": {
        "id": "l2zHIAyghhIy"
      },
      "execution_count": null,
      "outputs": []
    },
    {
      "cell_type": "code",
      "source": [
        "# Load the graph from the GML file\n",
        "G1 = nx.read_gml('/content/drive/MyDrive/ADM5/G1.gml')\n",
        "\n",
        "# Use the spring layout to position the nodes\n",
        "pos = nx.circular_layout(G1)\n",
        "\n",
        "# Draw the nodes and edges\n",
        "nx.draw_networkx(G1, pos)\n",
        "\n",
        "# Show the plot\n",
        "plt.show()"
      ],
      "metadata": {
        "id": "NhxL4YpyTIun",
        "colab": {
          "base_uri": "https://localhost:8080/",
          "height": 248
        },
        "outputId": "1220cbc3-6072-4baf-cd62-c5d2d4523a80"
      },
      "execution_count": null,
      "outputs": [
        {
          "output_type": "display_data",
          "data": {
            "text/plain": [
              "<Figure size 432x288 with 1 Axes>"
            ],
            "image/png": "[encoded data removed]"
          },
          "metadata": {}
        }
      ]
    },
    {
      "cell_type": "code",
      "source": [
        "# Load the graph from the GML file\n",
        "G2 = nx.read_gml('/content/drive/MyDrive/ADM5/G2.gml')\n",
        "\n",
        "# Use the spring layout to position the nodes\n",
        "pos = nx.circular_layout(G2)\n",
        "\n",
        "# Draw the nodes and edges\n",
        "nx.draw_networkx(G2, pos)\n",
        "\n",
        "# Show the plot\n",
        "plt.show()"
      ],
      "metadata": {
        "id": "Xqgo7gW7S5jy",
        "colab": {
          "base_uri": "https://localhost:8080/",
          "height": 248
        },
        "outputId": "9c34535c-8100-4003-bfa4-663e2fb11780"
      },
      "execution_count": null,
      "outputs": [
        {
          "output_type": "display_data",
          "data": {
            "text/plain": [
              "<Figure size 432x288 with 1 Axes>"
            ],
            "image/png": "[encoded data removed]"
          },
          "metadata": {}
        }
      ]
    },
    {
      "cell_type": "markdown",
      "source": [
        "##**2. Backend Implementation**"
      ],
      "metadata": {
        "id": "c6RjYkVz8EvZ"
      }
    },
    {
      "cell_type": "code",
      "source": [
        "# Solve version conflict between networkx and scipy when using pagerank\n",
        "import scipy\n",
        "import subprocess\n",
        "import sys\n",
        "\n",
        "if int(scipy.__version__[2]) < 8:\n",
        "  subprocess.check_call([sys.executable,\"-m\", \"pip\", \"install\", \"scipy==1.8.0\"])\n",
        "  print('IMPORTANT: RESTART RUNTIME BEFORE CONTINUING')\n",
        "  print(scipy.__version__)"
      ],
      "metadata": {
        "colab": {
          "base_uri": "https://localhost:8080/"
        },
        "id": "j8V1OHP_9iGK",
        "outputId": "071444dc-1aac-44cd-8247-78a5f0d67005"
      },
      "execution_count": null,
      "outputs": [
        {
          "output_type": "stream",
          "name": "stdout",
          "text": [
            "IMPORTANT: RESTART RUNTIME BEFORE CONTINUING\n",
            "1.7.3\n"
          ]
        }
      ]
    },
    {
      "cell_type": "code",
      "source": [
        "def get_top_N_heroes(G, type_, N, with_degrees=False):\n",
        "  out = []\n",
        "\n",
        "  if type_ == 1:\n",
        "    # find number of comics per hero\n",
        "    collaborations = defaultdict(int)\n",
        "    for node in G.nodes():\n",
        "      collaborations[node] = sum([G[node][neighbor]['count'] for neighbor in G.neighbors(node)])\n",
        "    # sort them\n",
        "    collaborations = dict(sorted(collaborations.items(), key = lambda x: x[1], reverse=True))\n",
        "    # take top N\n",
        "    out = [el[0] for el in list(collaborations.items())[:N]]\n",
        "\n",
        "\n",
        "  if type_ == 2:\n",
        "    # find number of comics per hero (aka degrees)\n",
        "    degrees = sorted(G.degree, key=lambda x: x[1], reverse=True) \n",
        "    if with_degrees:\n",
        "      out = [el for el in degrees if G.nodes[el[0]]['type'] == 'hero'][:N]\n",
        "    else:\n",
        "      out = [el[0] for el in degrees if G.nodes[el[0]]['type'] == 'hero'][:N]\n",
        "  \n",
        "  return out"
      ],
      "metadata": {
        "id": "u4QbTuKsX6uP"
      },
      "execution_count": null,
      "outputs": []
    },
    {
      "cell_type": "code",
      "source": [
        "def functionality_1(G, type_, N = None):\n",
        "  \n",
        "  if type_ == 1:\n",
        "    if N:\n",
        "      G = G.subgraph(get_top_N_heroes(G, type_, N))\n",
        "    degrees = list(map(lambda x: x[1], G.degree))\n",
        "    # number of nodes\n",
        "    n_nodes = G.number_of_nodes()\n",
        "    # collaborations\n",
        "    pairs = list(combinations(list(G.nodes()), 2))\n",
        "    collaborations = defaultdict(int)\n",
        "    for el in pairs:\n",
        "      try:\n",
        "        collaborations[el] = G[el[0]][el[1]]['count']\n",
        "      except:\n",
        "        pass\n",
        "    # density\n",
        "    density = nx.density(G)\n",
        "    # degree distribution\n",
        "    degree_distro = Counter(degrees)\n",
        "    # average degree\n",
        "    average_degree = np.mean(np.array(degrees))\n",
        "    # hubs\n",
        "    _95_percentile = np.percentile(np.array(degrees), 95)\n",
        "    hubs = [(key, value) for key, value in G.degree if value > _95_percentile]\n",
        "    # sparse or dense\n",
        "    if density > .5:\n",
        "      sparse = False\n",
        "    else:\n",
        "      sparse = True\n",
        "\n",
        "    out = {'n_nodes': n_nodes,\n",
        "           'collaborations': collaborations,\n",
        "           'density': density,\n",
        "           'degree_distribution': degree_distro,\n",
        "           'avg_degree': average_degree,\n",
        "           'hubs': hubs,\n",
        "           'sparse': sparse}\n",
        "\n",
        "    \n",
        "  if type_ == 2:\n",
        "    if N:\n",
        "      top_N_heroes = get_top_N_heroes(G, type_, N)    \n",
        "      top_N_heroes_with_respective_comics = set(top_N_heroes)\n",
        "      for hero in top_N_heroes:\n",
        "        top_N_heroes_with_respective_comics = top_N_heroes_with_respective_comics.union(set(G.neighbors(hero)))\n",
        "      G = G.subgraph(list(top_N_heroes_with_respective_comics))\n",
        "    heroes = [x for x,y in G.nodes(data=True) if y['type']=='hero']\n",
        "    comics = [x for x,y in G.nodes(data=True) if y['type']=='comic']\n",
        "    # number of nodes\n",
        "    n_heroes = len(heroes)\n",
        "    n_comics = len(comics)\n",
        "    # number of heroes that have appeared in each comic\n",
        "    heroes_in_comics = defaultdict(int)\n",
        "    for el in comics:\n",
        "      heroes_in_comics[el] = G.degree[el]\n",
        "    # density\n",
        "    density = len(G.edges()) / (n_heroes * n_comics)\n",
        "    # degree distribution\n",
        "    comics_degrees = [G.degree(el) for el in comics]\n",
        "    degree_distro = Counter(comics_degrees)\n",
        "    # average degree\n",
        "    average_degree = np.mean(np.array(comics_degrees))\n",
        "    # hubs\n",
        "    _95_percentile = np.percentile(np.array(comics_degrees), 95)\n",
        "    hubs = [(comic, G.degree(comic)) for comic in comics if G.degree(comic) > _95_percentile]\n",
        "    # sparse or dense\n",
        "    if density > .5:\n",
        "      sparse = False\n",
        "    else:\n",
        "      sparse = True\n",
        "\n",
        "    out = {'n_hero_nodes': n_heroes,\n",
        "           'n_comics_nodes': n_comics,\n",
        "           'heroes_in_comics': heroes_in_comics,\n",
        "           'density': density,\n",
        "           'comics_degree_distribution': degree_distro,\n",
        "           'comics_avg_degree': average_degree,\n",
        "           'comics_hubs': hubs,\n",
        "           'sparse': sparse}\n",
        "\n",
        "  return out\n"
      ],
      "metadata": {
        "id": "CB-wZrUJX6xQ"
      },
      "execution_count": null,
      "outputs": []
    },
    {
      "cell_type": "code",
      "source": [
        "def functionality_2(G, type_, node, metric, N = None):\n",
        "  if type_ == 1 and N:\n",
        "    G = G.subgraph(get_top_N_heroes(G, type_, N))\n",
        "  if type_ == 2 and N:\n",
        "    top_N_heroes = get_top_N_heroes(G, type_, N)    \n",
        "    top_N_heroes_with_respective_comics = set(top_N_heroes)\n",
        "    for hero in top_N_heroes:\n",
        "      top_N_heroes_with_respective_comics = top_N_heroes_with_respective_comics.union(set(G.neighbors(hero)))\n",
        "    G = G.subgraph(list(top_N_heroes_with_respective_comics))\n",
        "\n",
        "  if metric.lower() == 'betweeness':\n",
        "    graph_betweness_centrality = nx.betweenness_centrality(G, normalized=True)\n",
        "    node_betweeness_centrality = graph_betweness_centrality[node]\n",
        "    return graph_betweness_centrality, node_betweeness_centrality\n",
        "  if metric.lower() == 'pagerank':  \n",
        "    graph_pagerank = nx.pagerank(G)\n",
        "    node_pagerank = graph_pagerank[node]\n",
        "    return graph_pagerank, node_pagerank\n",
        "  if metric.lower() == 'closenesscentrality':\n",
        "    graph_closeness = nx.closeness_centrality(G)\n",
        "    node_closeness = graph_closeness[node]\n",
        "    return graph_closeness, node_closeness\n",
        "  if metric.lower() == 'degreecentrality':\n",
        "    graph_degree = nx.degree(G)\n",
        "    node_degree = graph_degree[node]\n",
        "    return graph_degree, node_degree"
      ],
      "metadata": {
        "id": "Xtjay_iIX60t"
      },
      "execution_count": null,
      "outputs": []
    },
    {
      "cell_type": "code",
      "source": [
        "def BFS(G, s, t, parent):\n",
        "  visited = dict(zip(list(G.nodes()), [False]*G.number_of_nodes()))\n",
        "  queue=[]\n",
        "  queue.append(s)\n",
        "  visited[s] = True\n",
        " \n",
        "  while queue:\n",
        "    u = queue.pop(0)\n",
        "    for v in G.neighbors(u):\n",
        "      if visited[v] == False and G[u][v]['weight'] > 0 :\n",
        "        queue.append(v)\n",
        "        visited[v] = True\n",
        "        parent[v] = u\n",
        "  return True if visited[t] else False\n",
        "\n",
        "def DFS(G,s,visited):\n",
        "  visited[s] = True\n",
        "  for node in G.neighbors(s):\n",
        "    if G[s][node]['weight'] > 0 and not visited[node]:\n",
        "      DFS(G ,node ,visited)\n",
        "\n",
        "def functionality_4(G, source, sink, N = None):\n",
        "  if N:\n",
        "    G = G.subgraph(get_top_N_heroes(G, 1, N))\n",
        "  if G.number_of_nodes() > 1000:\n",
        "    sys.setrecursionlimit(G.number_of_nodes() + 1)\n",
        "  G = G.to_directed()\n",
        "  G_copy = G\n",
        "  parent = defaultdict(str)\n",
        "  max_flow = 0\n",
        "  while BFS(G, source, sink, parent):    \n",
        "    path_flow = float(\"Inf\")\n",
        "    s = sink\n",
        "    while(s != source):\n",
        "      path_flow = min(path_flow, G[parent[s]][s]['weight'])\n",
        "      s = parent[s]\n",
        "    max_flow += path_flow\n",
        "  \n",
        "\n",
        "    v = sink\n",
        "    while(v != source):\n",
        "      u = parent[v]\n",
        "      G[u][v]['weight'] -= path_flow\n",
        "      G[v][u]['weight'] += path_flow\n",
        "      v = parent[v]\n",
        "\n",
        "  visited = dict(zip(list(G.nodes()), [False]*G.number_of_nodes()))\n",
        "  DFS(G, s, visited)\n",
        "\n",
        "  min_cut = []\n",
        "  for edge in G.edges():\n",
        "    i, j = edge\n",
        "    if G[i][j]['weight'] == 0 and visited[i] and not visited[j]:\n",
        "      min_cut.append((i,j))\n",
        "  \n",
        "  return len(min_cut), min_cut, max_flow   # you can also return min_cut and max_flow"
      ],
      "metadata": {
        "id": "2S7UzzwRX63z"
      },
      "execution_count": null,
      "outputs": []
    },
    {
      "cell_type": "markdown",
      "source": [
        "##**3. Frontend Implementation**"
      ],
      "metadata": {
        "id": "cuArm6n_8GTl"
      }
    },
    {
      "cell_type": "markdown",
      "source": [
        "reading the network from Pandas Dataframe to avoid problems with special characters"
      ],
      "metadata": {
        "id": "KoLJwaikn4LE"
      }
    },
    {
      "cell_type": "code",
      "source": [
        "hero1_hero2_frame = pd.read_csv('/content/drive/MyDrive/ADM5/hero-network.csv', sep=',')\n",
        "hero_comic_frame = pd.read_csv('/content/drive/MyDrive/ADM5/edges.csv', sep=',')\n",
        "node_type_frame = pd.read_csv('/content/drive/MyDrive/ADM5/nodes.csv', sep=',')"
      ],
      "metadata": {
        "id": "s3ag5m2wX66_"
      },
      "execution_count": null,
      "outputs": []
    },
    {
      "cell_type": "code",
      "source": [
        "hero_comic_frame"
      ],
      "metadata": {
        "colab": {
          "base_uri": "https://localhost:8080/",
          "height": 424
        },
        "id": "EP96qRvpoPyH",
        "outputId": "83e05845-9ddb-4fe4-8dba-9c0ad53eef66"
      },
      "execution_count": null,
      "outputs": [
        {
          "output_type": "execute_result",
          "data": {
            "text/plain": [
              "                       hero     comic\n",
              "0      24-HOUR MAN/EMMANUEL    AA2 35\n",
              "1      3-D MAN/CHARLES CHAN     AVF 4\n",
              "2      3-D MAN/CHARLES CHAN     AVF 5\n",
              "3      3-D MAN/CHARLES CHAN     COC 1\n",
              "4      3-D MAN/CHARLES CHAN    H2 251\n",
              "...                     ...       ...\n",
              "96099                 ZZZAX    H2 326\n",
              "96100                 ZZZAX    H2 327\n",
              "96101                 ZZZAX  M/CP 8/4\n",
              "96102                 ZZZAX     PM 47\n",
              "96103                 ZZZAX   WCA2 12\n",
              "\n",
              "[96104 rows x 2 columns]"
            ],
            "text/html": [
              "\n",
              "  <div id=\"df-2634beeb-704d-4e65-8f96-c36cf6de67fb\">\n",
              "    <div class=\"colab-df-container\">\n",
              "      <div>\n",
              "<style scoped>\n",
              "    .dataframe tbody tr th:only-of-type {\n",
              "        vertical-align: middle;\n",
              "    }\n",
              "\n",
              "    .dataframe tbody tr th {\n",
              "        vertical-align: top;\n",
              "    }\n",
              "\n",
              "    .dataframe thead th {\n",
              "        text-align: right;\n",
              "    }\n",
              "</style>\n",
              "<table border=\"1\" class=\"dataframe\">\n",
              "  <thead>\n",
              "    <tr style=\"text-align: right;\">\n",
              "      <th></th>\n",
              "      <th>hero</th>\n",
              "      <th>comic</th>\n",
              "    </tr>\n",
              "  </thead>\n",
              "  <tbody>\n",
              "    <tr>\n",
              "      <th>0</th>\n",
              "      <td>24-HOUR MAN/EMMANUEL</td>\n",
              "      <td>AA2 35</td>\n",
              "    </tr>\n",
              "    <tr>\n",
              "      <th>1</th>\n",
              "      <td>3-D MAN/CHARLES CHAN</td>\n",
              "      <td>AVF 4</td>\n",
              "    </tr>\n",
              "    <tr>\n",
              "      <th>2</th>\n",
              "      <td>3-D MAN/CHARLES CHAN</td>\n",
              "      <td>AVF 5</td>\n",
              "    </tr>\n",
              "    <tr>\n",
              "      <th>3</th>\n",
              "      <td>3-D MAN/CHARLES CHAN</td>\n",
              "      <td>COC 1</td>\n",
              "    </tr>\n",
              "    <tr>\n",
              "      <th>4</th>\n",
              "      <td>3-D MAN/CHARLES CHAN</td>\n",
              "      <td>H2 251</td>\n",
              "    </tr>\n",
              "    <tr>\n",
              "      <th>...</th>\n",
              "      <td>...</td>\n",
              "      <td>...</td>\n",
              "    </tr>\n",
              "    <tr>\n",
              "      <th>96099</th>\n",
              "      <td>ZZZAX</td>\n",
              "      <td>H2 326</td>\n",
              "    </tr>\n",
              "    <tr>\n",
              "      <th>96100</th>\n",
              "      <td>ZZZAX</td>\n",
              "      <td>H2 327</td>\n",
              "    </tr>\n",
              "    <tr>\n",
              "      <th>96101</th>\n",
              "      <td>ZZZAX</td>\n",
              "      <td>M/CP 8/4</td>\n",
              "    </tr>\n",
              "    <tr>\n",
              "      <th>96102</th>\n",
              "      <td>ZZZAX</td>\n",
              "      <td>PM 47</td>\n",
              "    </tr>\n",
              "    <tr>\n",
              "      <th>96103</th>\n",
              "      <td>ZZZAX</td>\n",
              "      <td>WCA2 12</td>\n",
              "    </tr>\n",
              "  </tbody>\n",
              "</table>\n",
              "<p>96104 rows × 2 columns</p>\n",
              "</div>\n",
              "      <button class=\"colab-df-convert\" onclick=\"convertToInteractive('df-2634beeb-704d-4e65-8f96-c36cf6de67fb')\"\n",
              "              title=\"Convert this dataframe to an interactive table.\"\n",
              "              style=\"display:none;\">\n",
              "        \n",
              "  <svg xmlns=\"http://www.w3.org/2000/svg\" height=\"24px\"viewBox=\"0 0 24 24\"\n",
              "       width=\"24px\">\n",
              "    <path d=\"M0 0h24v24H0V0z\" fill=\"none\"/>\n",
              "    <path d=\"M18.56 5.44l.94 2.06.94-2.06 2.06-.94-2.06-.94-.94-2.06-.94 2.06-2.06.94zm-11 1L8.5 8.5l.94-2.06 2.06-.94-2.06-.94L8.5 2.5l-.94 2.06-2.06.94zm10 10l.94 2.06.94-2.06 2.06-.94-2.06-.94-.94-2.06-.94 2.06-2.06.94z\"/><path d=\"M17.41 7.96l-1.37-1.37c-.4-.4-.92-.59-1.43-.59-.52 0-1.04.2-1.43.59L10.3 9.45l-7.72 7.72c-.78.78-.78 2.05 0 2.83L4 21.41c.39.39.9.59 1.41.59.51 0 1.02-.2 1.41-.59l7.78-7.78 2.81-2.81c.8-.78.8-2.07 0-2.86zM5.41 20L4 18.59l7.72-7.72 1.47 1.35L5.41 20z\"/>\n",
              "  </svg>\n",
              "      </button>\n",
              "      \n",
              "  <style>\n",
              "    .colab-df-container {\n",
              "      display:flex;\n",
              "      flex-wrap:wrap;\n",
              "      gap: 12px;\n",
              "    }\n",
              "\n",
              "    .colab-df-convert {\n",
              "      background-color: #E8F0FE;\n",
              "      border: none;\n",
              "      border-radius: 50%;\n",
              "      cursor: pointer;\n",
              "      display: none;\n",
              "      fill: #1967D2;\n",
              "      height: 32px;\n",
              "      padding: 0 0 0 0;\n",
              "      width: 32px;\n",
              "    }\n",
              "\n",
              "    .colab-df-convert:hover {\n",
              "      background-color: #E2EBFA;\n",
              "      box-shadow: 0px 1px 2px rgba(60, 64, 67, 0.3), 0px 1px 3px 1px rgba(60, 64, 67, 0.15);\n",
              "      fill: #174EA6;\n",
              "    }\n",
              "\n",
              "    [theme=dark] .colab-df-convert {\n",
              "      background-color: #3B4455;\n",
              "      fill: #D2E3FC;\n",
              "    }\n",
              "\n",
              "    [theme=dark] .colab-df-convert:hover {\n",
              "      background-color: #434B5C;\n",
              "      box-shadow: 0px 1px 3px 1px rgba(0, 0, 0, 0.15);\n",
              "      filter: drop-shadow(0px 1px 2px rgba(0, 0, 0, 0.3));\n",
              "      fill: #FFFFFF;\n",
              "    }\n",
              "  </style>\n",
              "\n",
              "      <script>\n",
              "        const buttonEl =\n",
              "          document.querySelector('#df-2634beeb-704d-4e65-8f96-c36cf6de67fb button.colab-df-convert');\n",
              "        buttonEl.style.display =\n",
              "          google.colab.kernel.accessAllowed ? 'block' : 'none';\n",
              "\n",
              "        async function convertToInteractive(key) {\n",
              "          const element = document.querySelector('#df-2634beeb-704d-4e65-8f96-c36cf6de67fb');\n",
              "          const dataTable =\n",
              "            await google.colab.kernel.invokeFunction('convertToInteractive',\n",
              "                                                     [key], {});\n",
              "          if (!dataTable) return;\n",
              "\n",
              "          const docLinkHtml = 'Like what you see? Visit the ' +\n",
              "            '<a target=\"_blank\" href=https://colab.research.google.com/notebooks/data_table.ipynb>data table notebook</a>'\n",
              "            + ' to learn more about interactive tables.';\n",
              "          element.innerHTML = '';\n",
              "          dataTable['output_type'] = 'display_data';\n",
              "          await google.colab.output.renderOutput(dataTable, element);\n",
              "          const docLink = document.createElement('div');\n",
              "          docLink.innerHTML = docLinkHtml;\n",
              "          element.appendChild(docLink);\n",
              "        }\n",
              "      </script>\n",
              "    </div>\n",
              "  </div>\n",
              "  "
            ]
          },
          "metadata": {},
          "execution_count": 4
        }
      ]
    },
    {
      "cell_type": "markdown",
      "source": [
        "creating the three graphs"
      ],
      "metadata": {
        "id": "em1HefI3oUXC"
      }
    },
    {
      "cell_type": "code",
      "source": [
        "hero1_hero2 = nx.from_pandas_edgelist(hero1_hero2_frame, \"hero1\", \"hero2\")\n",
        "hero_comic = nx.from_pandas_edgelist(hero_comic_frame, \"hero\", \"comic\")\n",
        "node_type = nx.from_pandas_edgelist(node_type_frame, \"node\", \"type\")"
      ],
      "metadata": {
        "id": "pzGqQmItoP_z"
      },
      "execution_count": null,
      "outputs": []
    },
    {
      "cell_type": "markdown",
      "source": [
        "#Visualization 1 - Visualize some features of the network\n",
        "\n",
        "considering the network as undirected"
      ],
      "metadata": {
        "id": "C6ZROAStoap-"
      }
    },
    {
      "cell_type": "code",
      "source": [
        "print(hero1_hero2)"
      ],
      "metadata": {
        "colab": {
          "base_uri": "https://localhost:8080/"
        },
        "id": "nmXizoB7oQM7",
        "outputId": "da2ceb88-a243-4b2a-a8c9-921e79bb5e34"
      },
      "execution_count": null,
      "outputs": [
        {
          "output_type": "stream",
          "name": "stdout",
          "text": [
            "Graph with 6426 nodes and 167219 edges\n"
          ]
        }
      ]
    },
    {
      "cell_type": "code",
      "source": [
        "visualization1 = pd.DataFrame(columns = ['number_of_nodes', 'density', 'avg_degree_centrality', 'sparse_or_dense'])"
      ],
      "metadata": {
        "id": "huC-rh5uo2JO"
      },
      "execution_count": null,
      "outputs": []
    },
    {
      "cell_type": "code",
      "source": [
        "visualization1.loc['type_of_graph: hero1-hero2', 'number_of_nodes'] = nx.number_of_nodes(hero1_hero2)\n",
        "visualization1.loc['type_of_graph: hero1-hero2', 'density'] = nx.density(hero1_hero2)\n",
        "visualization1.loc['type_of_graph: hero1-hero2', 'avg_degree_centrality'] = round(sum([degree for (_, degree) in hero1_hero2.degree()]) / nx.number_of_nodes(hero1_hero2), 2)\n",
        "visualization1.loc['type_of_graph: hero1-hero2', 'sparse_or_dense'] = np.where(nx.density(hero1_hero2) > 0.5, 'dense', 'sparse')\n",
        "\n",
        "visualization1.loc['type_of_graph: hero-comic', 'number_of_nodes'] = nx.number_of_nodes(hero_comic)\n",
        "visualization1.loc['type_of_graph: hero-comic', 'density'] = nx.density(hero_comic)\n",
        "visualization1.loc['type_of_graph: hero-comic', 'avg_degree_centrality'] = round(sum([degree for (_, degree) in hero_comic.degree()]) / nx.number_of_nodes(hero_comic), 2)\n",
        "visualization1.loc['type_of_graph: hero-comic', 'sparse_or_dense'] = np.where(nx.density(hero_comic) > 0.5, 'dense', 'sparse')\n",
        "\n",
        "visualization1.loc['type_of_graph: node-type', 'number_of_nodes'] = nx.number_of_nodes(node_type)\n",
        "visualization1.loc['type_of_graph: node-type', 'density'] = nx.density(node_type)\n",
        "visualization1.loc['type_of_graph: node-type', 'avg_degree_centrality'] = round(sum([degree for (_, degree) in node_type.degree()]) / nx.number_of_nodes(node_type), 2)\n",
        "visualization1.loc['type_of_graph: node-type', 'sparse_or_dense'] = np.where(nx.density(node_type) > 0.5, 'dense', 'sparse')"
      ],
      "metadata": {
        "id": "ZE3p_b1Co2S9"
      },
      "execution_count": null,
      "outputs": []
    },
    {
      "cell_type": "code",
      "source": [
        "visualization1"
      ],
      "metadata": {
        "colab": {
          "base_uri": "https://localhost:8080/",
          "height": 143
        },
        "id": "FSiRLyvYo6D_",
        "outputId": "a2589e5a-badd-48c7-d3f6-f355c9b118df"
      },
      "execution_count": null,
      "outputs": [
        {
          "output_type": "execute_result",
          "data": {
            "text/plain": [
              "                           number_of_nodes   density avg_degree_centrality  \\\n",
              "type_of_graph: hero1-hero2            6426    0.0081                 52.04   \n",
              "type_of_graph: hero-comic            19090  0.000527                 10.07   \n",
              "type_of_graph: node-type             19092  0.000105                   2.0   \n",
              "\n",
              "                           sparse_or_dense  \n",
              "type_of_graph: hero1-hero2          sparse  \n",
              "type_of_graph: hero-comic           sparse  \n",
              "type_of_graph: node-type            sparse  "
            ],
            "text/html": [
              "\n",
              "  <div id=\"df-e08f4c88-de90-4c8d-b8a1-587303ce95fe\">\n",
              "    <div class=\"colab-df-container\">\n",
              "      <div>\n",
              "<style scoped>\n",
              "    .dataframe tbody tr th:only-of-type {\n",
              "        vertical-align: middle;\n",
              "    }\n",
              "\n",
              "    .dataframe tbody tr th {\n",
              "        vertical-align: top;\n",
              "    }\n",
              "\n",
              "    .dataframe thead th {\n",
              "        text-align: right;\n",
              "    }\n",
              "</style>\n",
              "<table border=\"1\" class=\"dataframe\">\n",
              "  <thead>\n",
              "    <tr style=\"text-align: right;\">\n",
              "      <th></th>\n",
              "      <th>number_of_nodes</th>\n",
              "      <th>density</th>\n",
              "      <th>avg_degree_centrality</th>\n",
              "      <th>sparse_or_dense</th>\n",
              "    </tr>\n",
              "  </thead>\n",
              "  <tbody>\n",
              "    <tr>\n",
              "      <th>type_of_graph: hero1-hero2</th>\n",
              "      <td>6426</td>\n",
              "      <td>0.0081</td>\n",
              "      <td>52.04</td>\n",
              "      <td>sparse</td>\n",
              "    </tr>\n",
              "    <tr>\n",
              "      <th>type_of_graph: hero-comic</th>\n",
              "      <td>19090</td>\n",
              "      <td>0.000527</td>\n",
              "      <td>10.07</td>\n",
              "      <td>sparse</td>\n",
              "    </tr>\n",
              "    <tr>\n",
              "      <th>type_of_graph: node-type</th>\n",
              "      <td>19092</td>\n",
              "      <td>0.000105</td>\n",
              "      <td>2.0</td>\n",
              "      <td>sparse</td>\n",
              "    </tr>\n",
              "  </tbody>\n",
              "</table>\n",
              "</div>\n",
              "      <button class=\"colab-df-convert\" onclick=\"convertToInteractive('df-e08f4c88-de90-4c8d-b8a1-587303ce95fe')\"\n",
              "              title=\"Convert this dataframe to an interactive table.\"\n",
              "              style=\"display:none;\">\n",
              "        \n",
              "  <svg xmlns=\"http://www.w3.org/2000/svg\" height=\"24px\"viewBox=\"0 0 24 24\"\n",
              "       width=\"24px\">\n",
              "    <path d=\"M0 0h24v24H0V0z\" fill=\"none\"/>\n",
              "    <path d=\"M18.56 5.44l.94 2.06.94-2.06 2.06-.94-2.06-.94-.94-2.06-.94 2.06-2.06.94zm-11 1L8.5 8.5l.94-2.06 2.06-.94-2.06-.94L8.5 2.5l-.94 2.06-2.06.94zm10 10l.94 2.06.94-2.06 2.06-.94-2.06-.94-.94-2.06-.94 2.06-2.06.94z\"/><path d=\"M17.41 7.96l-1.37-1.37c-.4-.4-.92-.59-1.43-.59-.52 0-1.04.2-1.43.59L10.3 9.45l-7.72 7.72c-.78.78-.78 2.05 0 2.83L4 21.41c.39.39.9.59 1.41.59.51 0 1.02-.2 1.41-.59l7.78-7.78 2.81-2.81c.8-.78.8-2.07 0-2.86zM5.41 20L4 18.59l7.72-7.72 1.47 1.35L5.41 20z\"/>\n",
              "  </svg>\n",
              "      </button>\n",
              "      \n",
              "  <style>\n",
              "    .colab-df-container {\n",
              "      display:flex;\n",
              "      flex-wrap:wrap;\n",
              "      gap: 12px;\n",
              "    }\n",
              "\n",
              "    .colab-df-convert {\n",
              "      background-color: #E8F0FE;\n",
              "      border: none;\n",
              "      border-radius: 50%;\n",
              "      cursor: pointer;\n",
              "      display: none;\n",
              "      fill: #1967D2;\n",
              "      height: 32px;\n",
              "      padding: 0 0 0 0;\n",
              "      width: 32px;\n",
              "    }\n",
              "\n",
              "    .colab-df-convert:hover {\n",
              "      background-color: #E2EBFA;\n",
              "      box-shadow: 0px 1px 2px rgba(60, 64, 67, 0.3), 0px 1px 3px 1px rgba(60, 64, 67, 0.15);\n",
              "      fill: #174EA6;\n",
              "    }\n",
              "\n",
              "    [theme=dark] .colab-df-convert {\n",
              "      background-color: #3B4455;\n",
              "      fill: #D2E3FC;\n",
              "    }\n",
              "\n",
              "    [theme=dark] .colab-df-convert:hover {\n",
              "      background-color: #434B5C;\n",
              "      box-shadow: 0px 1px 3px 1px rgba(0, 0, 0, 0.15);\n",
              "      filter: drop-shadow(0px 1px 2px rgba(0, 0, 0, 0.3));\n",
              "      fill: #FFFFFF;\n",
              "    }\n",
              "  </style>\n",
              "\n",
              "      <script>\n",
              "        const buttonEl =\n",
              "          document.querySelector('#df-e08f4c88-de90-4c8d-b8a1-587303ce95fe button.colab-df-convert');\n",
              "        buttonEl.style.display =\n",
              "          google.colab.kernel.accessAllowed ? 'block' : 'none';\n",
              "\n",
              "        async function convertToInteractive(key) {\n",
              "          const element = document.querySelector('#df-e08f4c88-de90-4c8d-b8a1-587303ce95fe');\n",
              "          const dataTable =\n",
              "            await google.colab.kernel.invokeFunction('convertToInteractive',\n",
              "                                                     [key], {});\n",
              "          if (!dataTable) return;\n",
              "\n",
              "          const docLinkHtml = 'Like what you see? Visit the ' +\n",
              "            '<a target=\"_blank\" href=https://colab.research.google.com/notebooks/data_table.ipynb>data table notebook</a>'\n",
              "            + ' to learn more about interactive tables.';\n",
              "          element.innerHTML = '';\n",
              "          dataTable['output_type'] = 'display_data';\n",
              "          await google.colab.output.renderOutput(dataTable, element);\n",
              "          const docLink = document.createElement('div');\n",
              "          docLink.innerHTML = docLinkHtml;\n",
              "          element.appendChild(docLink);\n",
              "        }\n",
              "      </script>\n",
              "    </div>\n",
              "  </div>\n",
              "  "
            ]
          },
          "metadata": {},
          "execution_count": 9
        }
      ]
    },
    {
      "cell_type": "markdown",
      "source": [
        "# A table that lists the network's hubs\n"
      ],
      "metadata": {
        "id": "yZV-G2k8pATB"
      }
    },
    {
      "cell_type": "code",
      "source": [
        "avg_degree_centrality = visualization1.iloc[0,2]\n",
        "\n",
        "degrees_each_hero = {hero:degree for (hero, degree) in hero1_hero2.degree()}\n",
        "\n",
        "hubs = {hero:degree for (hero, degree) in degrees_each_hero.items() if degree > avg_degree_centrality}\n",
        "print('Lenght of hubs'' list:', len(hubs))\n",
        "# print(hubs)"
      ],
      "metadata": {
        "colab": {
          "base_uri": "https://localhost:8080/"
        },
        "id": "od0mMdvPo6L1",
        "outputId": "a6203d8a-6068-4bdd-b81d-f737e8a69687"
      },
      "execution_count": null,
      "outputs": [
        {
          "output_type": "stream",
          "name": "stdout",
          "text": [
            "Lenght of hubs list: 1444\n"
          ]
        }
      ]
    },
    {
      "cell_type": "markdown",
      "source": [
        "# A plot depicting the number of collaborations of each hero in descending order (if the graph is type 1)\n"
      ],
      "metadata": {
        "id": "5FkvCM9ipGak"
      }
    },
    {
      "cell_type": "code",
      "source": [
        "collaborations = hero_comic_frame.groupby('hero')['comic'].size()\n",
        "collaborations = (collaborations.sort_values(ascending=False)).to_frame()\n",
        "collaborations.reset_index(inplace=True)\n",
        "\n",
        "collaborations.rename(columns={collaborations.columns[1]: 'number_of_collaboration'}, inplace=True)"
      ],
      "metadata": {
        "id": "B5Ucr3NGo6Oh"
      },
      "execution_count": null,
      "outputs": []
    },
    {
      "cell_type": "code",
      "source": [
        "# showing the first 25 heros for visualization reason\n",
        "\n",
        "plt.rcParams['figure.figsize'] = [12, 6]\n",
        "\n",
        "ax = collaborations.iloc[:20,:].plot( y = \"number_of_collaboration\", x = \"hero\", kind = \"bar\")\n",
        "\n",
        "plt.xticks(rotation=45, fontsize=10, ha='right')\n",
        "plt.xlabel(\"Number of collaboration by hero\", fontsize= 14)\n",
        "plt.ylabel(\"Number of collaboration\", fontsize=14, labelpad=15)\n",
        "plt.title(\"Heros' collaborations (first 25 heroes)\", fontsize= 17, pad =20)\n",
        "plt.tight_layout(pad=1)\n",
        "plt.legend('', frameon=False)\n",
        "plt.grid(color = 'green', linestyle = '--', linewidth = 0.2)\n",
        "\n",
        "plt.show()"
      ],
      "metadata": {
        "colab": {
          "base_uri": "https://localhost:8080/",
          "height": 443
        },
        "id": "mHnsNR5xo6Zh",
        "outputId": "6a832db1-1581-4526-cae6-f5ea333e8fa9"
      },
      "execution_count": null,
      "outputs": [
        {
          "output_type": "display_data",
          "data": {
            "text/plain": [
              "<Figure size 864x432 with 1 Axes>"
            ],
            "image/png": "[encoded data removed]"
          },
          "metadata": {
            "needs_background": "light"
          }
        }
      ]
    },
    {
      "cell_type": "markdown",
      "source": [
        "# A plot depicting the degree distribution of the network (first kind of graph)"
      ],
      "metadata": {
        "id": "bZa4gBoUpZss"
      }
    },
    {
      "cell_type": "code",
      "source": [
        "degree_sequence = sorted([d for n, d in hero1_hero2.degree()], reverse=True)"
      ],
      "metadata": {
        "id": "IkvCuSmZpQuH"
      },
      "execution_count": null,
      "outputs": []
    },
    {
      "cell_type": "code",
      "source": [
        "degree_sequence = pd.DataFrame(degree_sequence).astype(str)\n",
        "degree_sequence.rename(columns={degree_sequence.columns[0]: 'degree'}, inplace=True)"
      ],
      "metadata": {
        "id": "7Cq-anQ1pQx6"
      },
      "execution_count": null,
      "outputs": []
    },
    {
      "cell_type": "code",
      "source": [
        "degree_sequence_grouped = degree_sequence.groupby('degree').size()"
      ],
      "metadata": {
        "id": "oqESGisLpQ1-"
      },
      "execution_count": null,
      "outputs": []
    },
    {
      "cell_type": "code",
      "execution_count": null,
      "metadata": {
        "id": "c9f38fa9",
        "outputId": "1f9db36e-0635-4048-c0b5-c7f90ceae66b"
      },
      "outputs": [
        {
          "data": {
            "image/png": "[encoded data removed]",
            "text/plain": [
              "<Figure size 864x432 with 1 Axes>"
            ]
          },
          "metadata": {
            "needs_background": "light"
          },
          "output_type": "display_data"
        }
      ],
      "source": [
        "plt.close()\n",
        "plt.plot(degree_sequence_grouped.sort_values(ascending=False))\n",
        "\n",
        "plt.ylabel(\"Degree\", fontsize=16, labelpad=15)\n",
        "plt.xlabel(\"Nodes\", fontsize=16, labelpad=15)\n",
        "plt.title(\"Degree distribution\", fontsize= 17, pad =20)\n",
        "plt.tight_layout(pad=1)\n",
        "plt.grid(color = 'green', linestyle = '--', linewidth = 0.2)\n",
        "plt.tick_params(labelbottom = False, bottom = False)\n",
        "\n",
        "plt.show()"
      ]
    },
    {
      "cell_type": "markdown",
      "metadata": {
        "id": "f142344e"
      },
      "source": [
        "# Visualization 2 - Visualize centrality measure"
      ]
    },
    {
      "cell_type": "code",
      "execution_count": null,
      "metadata": {
        "id": "24875a7a"
      },
      "outputs": [],
      "source": [
        "visualization2 = pd.DataFrame(columns = ['degree_centrality', 'eigenvector_centrality', \n",
        "                                         'closeness_centrality', 'betweenness_centrality'])\n",
        "# creating dictionaries for all possible nodes\n",
        "# created also for computational reason\n",
        "eigen_centrality = nx.eigenvector_centrality_numpy(hero1_hero2)\n",
        "closeness_centrality = nx.closeness_centrality(hero1_hero2)\n",
        "betweenness_centrality = nx.betweenness_centrality(hero1_hero2)\n",
        "page_rank = nx.pagerank(hero1_hero2)"
      ]
    },
    {
      "cell_type": "markdown",
      "metadata": {
        "id": "ead8f03e"
      },
      "source": [
        "## example of node you can chose"
      ]
    },
    {
      "cell_type": "code",
      "execution_count": null,
      "metadata": {
        "id": "eda6e28c",
        "outputId": "c794ff37-ed3a-4e68-8555-b4efadce54d2"
      },
      "outputs": [
        {
          "name": "stdout",
          "output_type": "stream",
          "text": [
            "Samples from first kind of network:\n",
            " ['SOUL MAN/FATHER JASO', 'TAI II', 'QNAX', 'SHAW, SHINOBI', 'RIOT II/', 'BRAHMANES', 'CROMWELL, HAMILTON', 'MOTHER INFERIOR']\n"
          ]
        }
      ],
      "source": [
        "print('Samples from first kind of network:\\n',sample(list(hero1_hero2.nodes), 8))\n",
        "\n",
        "# copy and paste the node's name from the print output example\n",
        "selected_node = 'LORD CHAOS'"
      ]
    },
    {
      "cell_type": "code",
      "execution_count": null,
      "metadata": {
        "id": "1e5daa93"
      },
      "outputs": [],
      "source": [
        "visualization2.loc['average values of all nodes', 'degree_centrality'] = np.mean(list(nx.degree_centrality(hero1_hero2).values()))\n",
        "visualization2.loc['average values of all nodes', 'eigenvector_centrality'] = np.mean(list(eigen_centrality.values()))\n",
        "visualization2.loc['average values of all nodes', 'closeness_centrality'] = np.mean(list(closeness_centrality.values()))\n",
        "visualization2.loc['average values of all nodes', 'betweenness_centrality'] = np.mean(list(betweenness_centrality.values()))"
      ]
    },
    {
      "cell_type": "code",
      "execution_count": null,
      "metadata": {
        "id": "5f9b2adf",
        "outputId": "b79bf42b-febc-4116-b6bc-90d32fc5b888"
      },
      "outputs": [
        {
          "data": {
            "text/html": [
              "<div>\n",
              "<style scoped>\n",
              "    .dataframe tbody tr th:only-of-type {\n",
              "        vertical-align: middle;\n",
              "    }\n",
              "\n",
              "    .dataframe tbody tr th {\n",
              "        vertical-align: top;\n",
              "    }\n",
              "\n",
              "    .dataframe thead th {\n",
              "        text-align: right;\n",
              "    }\n",
              "</style>\n",
              "<table border=\"1\" class=\"dataframe\">\n",
              "  <thead>\n",
              "    <tr style=\"text-align: right;\">\n",
              "      <th></th>\n",
              "      <th>degree_centrality</th>\n",
              "      <th>eigenvector_centrality</th>\n",
              "      <th>closeness_centrality</th>\n",
              "      <th>betweenness_centrality</th>\n",
              "    </tr>\n",
              "  </thead>\n",
              "  <tbody>\n",
              "    <tr>\n",
              "      <th>average values of all nodes</th>\n",
              "      <td>0.0081</td>\n",
              "      <td>0.006047</td>\n",
              "      <td>0.381307</td>\n",
              "      <td>0.000254</td>\n",
              "    </tr>\n",
              "  </tbody>\n",
              "</table>\n",
              "</div>"
            ],
            "text/plain": [
              "                            degree_centrality eigenvector_centrality  \\\n",
              "average values of all nodes            0.0081               0.006047   \n",
              "\n",
              "                            closeness_centrality betweenness_centrality  \n",
              "average values of all nodes             0.381307               0.000254  "
            ]
          },
          "execution_count": 21,
          "metadata": {},
          "output_type": "execute_result"
        }
      ],
      "source": [
        "visualization2"
      ]
    },
    {
      "cell_type": "code",
      "execution_count": null,
      "metadata": {
        "id": "2b4a3368"
      },
      "outputs": [],
      "source": [
        "visualization2_2 = pd.DataFrame(columns = ['degree', 'page_rank', \n",
        "                                           'closeness_centrality', 'betweenness_centrality'])"
      ]
    },
    {
      "cell_type": "code",
      "execution_count": null,
      "metadata": {
        "id": "d10b2f94"
      },
      "outputs": [],
      "source": [
        "visualization2_2.loc[f'chosen node: {selected_node}', 'degree'] = nx.degree(hero1_hero2, selected_node)\n",
        "visualization2_2.loc[f'chosen node: {selected_node}', 'page_rank'] = page_rank[selected_node]\n",
        "visualization2_2.loc[f'chosen node: {selected_node}', 'closeness_centrality'] = nx.closeness_centrality(hero1_hero2, u = selected_node)\n",
        "visualization2_2.loc[f'chosen node: {selected_node}', 'betweenness_centrality'] = betweenness_centrality[selected_node]"
      ]
    },
    {
      "cell_type": "code",
      "execution_count": null,
      "metadata": {
        "id": "185af574",
        "outputId": "f1975dbf-0ae1-4167-9e7d-88e8079097e2"
      },
      "outputs": [
        {
          "data": {
            "text/html": [
              "<div>\n",
              "<style scoped>\n",
              "    .dataframe tbody tr th:only-of-type {\n",
              "        vertical-align: middle;\n",
              "    }\n",
              "\n",
              "    .dataframe tbody tr th {\n",
              "        vertical-align: top;\n",
              "    }\n",
              "\n",
              "    .dataframe thead th {\n",
              "        text-align: right;\n",
              "    }\n",
              "</style>\n",
              "<table border=\"1\" class=\"dataframe\">\n",
              "  <thead>\n",
              "    <tr style=\"text-align: right;\">\n",
              "      <th></th>\n",
              "      <th>degree</th>\n",
              "      <th>page_rank</th>\n",
              "      <th>closeness_centrality</th>\n",
              "      <th>betweenness_centrality</th>\n",
              "    </tr>\n",
              "  </thead>\n",
              "  <tbody>\n",
              "    <tr>\n",
              "      <th>chosen node: LORD CHAOS</th>\n",
              "      <td>135</td>\n",
              "      <td>0.000314</td>\n",
              "      <td>0.468165</td>\n",
              "      <td>0.000109</td>\n",
              "    </tr>\n",
              "  </tbody>\n",
              "</table>\n",
              "</div>"
            ],
            "text/plain": [
              "                        degree page_rank closeness_centrality  \\\n",
              "chosen node: LORD CHAOS    135  0.000314             0.468165   \n",
              "\n",
              "                        betweenness_centrality  \n",
              "chosen node: LORD CHAOS               0.000109  "
            ]
          },
          "execution_count": 24,
          "metadata": {},
          "output_type": "execute_result"
        }
      ],
      "source": [
        "visualization2_2"
      ]
    },
    {
      "cell_type": "markdown",
      "metadata": {
        "id": "8da0c729"
      },
      "source": [
        "# Visualization 3 - Visualize the shortest-ordered route"
      ]
    },
    {
      "cell_type": "code",
      "execution_count": null,
      "metadata": {
        "id": "a4905e9b",
        "outputId": "a0729d62-62dd-4df6-ce1a-fb6689a97f69"
      },
      "outputs": [
        {
          "name": "stdout",
          "output_type": "stream",
          "text": [
            "Possible start node:\n",
            " 66450              REVER, DAN\n",
            "82326         TERRAX II/TYROS\n",
            "73918    SILVER SURFER/NORRIN\n",
            "57685    NIGHT THRASHER/DUANE\n",
            "84570    THOR/DR. DONALD BLAK\n",
            "Name: hero, dtype: object\n",
            "Possible end node:\n",
            " 20891          D'KEN [SHI'AR]\n",
            "51876    MEDUSA/MEDUSALITH AM\n",
            "90798            WATSON, ANNA\n",
            "7930      BLACK WIDOW/NATASHA\n",
            "4821            BEACH, GINGER\n",
            "Name: hero, dtype: object\n"
          ]
        }
      ],
      "source": [
        "print('Possible start node:\\n', hero_comic_frame['hero'].sample(5))\n",
        "print('Possible end node:\\n', hero_comic_frame['hero'].sample(5) )\n",
        "\n",
        "# copy and paste the node's name from the print output example\n",
        "start_node = '3-D MAN/CHARLES CHAN'\n",
        "end_node = 'FIREBIRD/BONITA JUAR'"
      ]
    },
    {
      "cell_type": "code",
      "execution_count": null,
      "metadata": {
        "id": "29039166"
      },
      "outputs": [],
      "source": [
        "path = nx.shortest_path(hero_comic, source = start_node, target = end_node)\n",
        "\n",
        "path_edges = list(zip(path, path[2:]))\n",
        "path_edges = path_edges[::2]\n",
        "\n",
        "path_nodes = list(path[0::2])\n",
        "edges = path[1::2]\n",
        "\n",
        "labels = {path_edges[i]:edges[i] for i in range(len(path_edges))}"
      ]
    },
    {
      "cell_type": "code",
      "execution_count": null,
      "metadata": {
        "id": "2ca5fd00"
      },
      "outputs": [],
      "source": [
        "to_plot = nx.Graph()\n",
        "to_plot.add_edges_from(path_edges)\n",
        "pos = nx.spring_layout(to_plot)"
      ]
    },
    {
      "cell_type": "code",
      "execution_count": null,
      "metadata": {
        "id": "2febbaa9",
        "outputId": "d482fa74-a948-4730-d450-e4cb0158f9c9"
      },
      "outputs": [
        {
          "data": {
            "image/png": "[encoded data removed]",
            "text/plain": [
              "<Figure size 864x432 with 1 Axes>"
            ]
          },
          "metadata": {},
          "output_type": "display_data"
        }
      ],
      "source": [
        "plt.figure()\n",
        "ax = plt.gca()\n",
        "\n",
        "nx.draw(\n",
        "    to_plot, pos, edge_color='black', width=1, linewidths=10,\n",
        "    node_size=500, node_color='red', alpha=0.9,  font_size = 12,\n",
        "    labels = {node: node for node in to_plot.nodes()})\n",
        "\n",
        "nx.draw_networkx_edge_labels(to_plot, pos, edge_labels = labels, font_color='red', font_size=15)\n",
        "\n",
        "ax.annotate(\"Start node\", xy=pos.get(start_node), xytext=(0, 40), textcoords='offset pixels',\n",
        "    arrowprops=dict(facecolor='black', shrink=0.3), bbox=dict(boxstyle=\"round\", fc='#FF4040', alpha=0.8), ha='center')\n",
        "\n",
        "ax.annotate(\"End node\", xy=pos.get(end_node), xytext=(0, 40), textcoords='offset points',\n",
        "    arrowprops=dict(facecolor='black', shrink=0.3), bbox=dict(boxstyle=\"round\", fc='#FF4040', alpha=0.8), ha='center')\n",
        "\n",
        "plt.tight_layout(pad=1)\n",
        "\n",
        "plt.show()"
      ]
    },
    {
      "cell_type": "markdown",
      "metadata": {
        "id": "91812bc9"
      },
      "source": [
        "# Visualization 4 - Visualize the disconnected graph"
      ]
    },
    {
      "cell_type": "code",
      "execution_count": null,
      "metadata": {
        "id": "13fd3907"
      },
      "outputs": [],
      "source": [
        "shrinked_graph = hero1_hero2_frame.iloc[:,:]\n",
        "hero1_hero2 = nx.from_pandas_edgelist(shrinked_graph, \"hero1\", \"hero2\")"
      ]
    },
    {
      "cell_type": "markdown",
      "metadata": {
        "id": "cad87b49"
      },
      "source": [
        "## to make sure hero_A and hero_B are connected\n",
        "## we are using a shrinked GiantComponent, where all the heros present are connected\n",
        "## best visualization with 15 heroes"
      ]
    },
    {
      "cell_type": "code",
      "execution_count": null,
      "metadata": {
        "id": "69caf93f"
      },
      "outputs": [],
      "source": [
        "giant_component = sorted(nx.connected_components(hero1_hero2), key=len, reverse=True) # True ---> gian component\n",
        "giant_component = hero1_hero2.subgraph(giant_component[0])"
      ]
    },
    {
      "cell_type": "code",
      "execution_count": null,
      "metadata": {
        "id": "8c1760ad"
      },
      "outputs": [],
      "source": [
        "giant_component = nx.to_pandas_edgelist(giant_component)"
      ]
    },
    {
      "cell_type": "code",
      "execution_count": null,
      "metadata": {
        "id": "68798bb7"
      },
      "outputs": [],
      "source": [
        "giant_component = giant_component.iloc[:30, :]\n",
        "giant_component = nx.from_pandas_edgelist(giant_component, \"source\", \"target\")"
      ]
    },
    {
      "cell_type": "code",
      "execution_count": null,
      "metadata": {
        "id": "1721b380",
        "outputId": "22f8d624-ad2d-46af-eb98-a579a566bf65"
      },
      "outputs": [
        {
          "name": "stdout",
          "output_type": "stream",
          "text": [
            "Possible start node:\n",
            " ['LITTLE, ABNER', 'PRINCESS ZANDA', \"BLACK PANTHER/T'CHAL\", 'CARNIVORE/COUNT ANDR', 'IRON MAN/TONY STARK ', 'GOLDEN-BLADE', 'DIXON, GENERAL', 'IRON MAN IV/JAMES R.', 'JOCASTA', 'FUJIKAWA, RUMIKO', 'MADAME MENACE/SUNSET', 'JACOBS, GLENDA', 'WAR MACHINE II/PARNE', 'SAPPER', 'HOGAN, VIRGINIA PEPP', 'BINARY/CAROL DANVERS', 'FIN FANG FOOM/MIDGAR', 'MANN, DR. J. VERNON ', 'THOR/DR. DONALD BLAK', 'TEMPEST II/NICOLETTE', 'JARVIS, EDWIN ', 'INFERNO III/SAMANTHA', 'DECAY II/YOSHIRO HAC']\n"
          ]
        }
      ],
      "source": [
        "print('Possible start node:\\n', giant_component.nodes())"
      ]
    },
    {
      "cell_type": "code",
      "execution_count": null,
      "metadata": {
        "id": "3a5ff06b"
      },
      "outputs": [],
      "source": [
        "hero_A = 'LITTLE, ABNER' # related to subgraph A\n",
        "hero_B = 'PRINCESS ZANDA' # related to subgraph B"
      ]
    },
    {
      "cell_type": "code",
      "execution_count": null,
      "metadata": {
        "id": "71940c82",
        "outputId": "0b6742cc-f41d-4126-e637-f7990c05f2ca"
      },
      "outputs": [
        {
          "name": "stdout",
          "output_type": "stream",
          "text": [
            "{'HOGAN, VIRGINIA PEPP': 'PRINCESS ZANDA', 'IRON MAN/TONY STARK ': 'PRINCESS ZANDA', 'LITTLE, ABNER': 'PRINCESS ZANDA', 'TEMPEST II/NICOLETTE': 'PRINCESS ZANDA', 'MANN, DR. J. VERNON ': 'PRINCESS ZANDA', 'THOR/DR. DONALD BLAK': 'PRINCESS ZANDA', 'CARNIVORE/COUNT ANDR': 'PRINCESS ZANDA', \"BLACK PANTHER/T'CHAL\": 'PRINCESS ZANDA', 'JARVIS, EDWIN ': 'PRINCESS ZANDA'}\n",
            "\n",
            "The minimum edge cut, for separating the original graph in two distinct subgraph is: 9\n"
          ]
        }
      ],
      "source": [
        "# minimum_cut_edge = dict(nx.minimum_edge_cut(giant_component, s = hero_A, t = hero_B))\n",
        "from networkx.algorithms.connectivity import minimum_st_edge_cut\n",
        "minimum_cut_edge = dict(minimum_st_edge_cut(giant_component, s = hero_A, t = hero_B))\n",
        "print(minimum_cut_edge)\n",
        "minimum_cut = len(nx.minimum_edge_cut(giant_component, s = hero_A, t = hero_B))\n",
        "print('\\nThe minimum edge cut, for separating the original graph in two distinct subgraph is:', minimum_cut)"
      ]
    },
    {
      "cell_type": "code",
      "execution_count": null,
      "metadata": {
        "id": "57a452b6",
        "outputId": "63ac06ba-30b8-4ad8-b3db-55b8a518a06e"
      },
      "outputs": [
        {
          "data": {
            "image/png": "[encoded data removed]",
            "text/plain": [
              "<Figure size 864x432 with 1 Axes>"
            ]
          },
          "metadata": {},
          "output_type": "display_data"
        }
      ],
      "source": [
        "nx.draw_circular(giant_component, labels = {node: node for node in giant_component.nodes()})"
      ]
    },
    {
      "cell_type": "code",
      "execution_count": null,
      "metadata": {
        "id": "b3946347",
        "outputId": "c319baf1-b14f-4ea1-b36a-836c8b412ea4"
      },
      "outputs": [
        {
          "name": "stdout",
          "output_type": "stream",
          "text": [
            "[('HOGAN, VIRGINIA PEPP', 'PRINCESS ZANDA'), ('IRON MAN/TONY STARK ', 'PRINCESS ZANDA'), ('LITTLE, ABNER', 'PRINCESS ZANDA'), ('TEMPEST II/NICOLETTE', 'PRINCESS ZANDA'), ('MANN, DR. J. VERNON ', 'PRINCESS ZANDA'), ('THOR/DR. DONALD BLAK', 'PRINCESS ZANDA'), ('CARNIVORE/COUNT ANDR', 'PRINCESS ZANDA'), (\"BLACK PANTHER/T'CHAL\", 'PRINCESS ZANDA'), ('JARVIS, EDWIN ', 'PRINCESS ZANDA')]\n"
          ]
        }
      ],
      "source": [
        "minimum_cut_edge = [(k, v) for k, v in minimum_cut_edge.items()]\n",
        "print(minimum_cut_edge)"
      ]
    },
    {
      "cell_type": "code",
      "execution_count": null,
      "metadata": {
        "id": "083abe27"
      },
      "outputs": [],
      "source": [
        "disconnected_hero = giant_component.copy()\n",
        "disconnected_hero.remove_edges_from(minimum_cut_edge)"
      ]
    },
    {
      "cell_type": "code",
      "execution_count": null,
      "metadata": {
        "id": "e9be96ec",
        "outputId": "e84fae9d-48db-43ba-8483-f0b72862aa8b"
      },
      "outputs": [
        {
          "data": {
            "image/png": "[encoded data removed]",
            "text/plain": [
              "<Figure size 864x432 with 1 Axes>"
            ]
          },
          "metadata": {},
          "output_type": "display_data"
        }
      ],
      "source": [
        "plt.figure()\n",
        "ax = plt.gca()\n",
        "\n",
        "pos = nx.spring_layout(disconnected_hero)\n",
        "nx.draw(disconnected_hero, pos, labels = {node: node for node in disconnected_hero.nodes()})\n",
        "\n",
        "ax.annotate(\"Disconnected node\\n(hero_B)\", xy=pos.get(hero_B), xytext=(0, 40), textcoords='offset pixels',\n",
        "    arrowprops=dict(facecolor='black', shrink=0.3), bbox=dict(boxstyle=\"round\", fc='#FF4040', alpha=0.8), ha='center')\n",
        "\n",
        "ax.annotate(\"hero_A\", xy=pos.get(hero_A), xytext=(0, 40), textcoords='offset pixels',\n",
        "    arrowprops=dict(facecolor='black', shrink=0.3), bbox=dict(boxstyle=\"round\", fc='#FF4040', alpha=0.8), ha='center')\n",
        "\n",
        "plt.show()"
      ]
    },
    {
      "cell_type": "markdown",
      "metadata": {
        "id": "9d402cc7"
      },
      "source": [
        "# Visualization 5 - Visualize the communities\n",
        "## Girvan_newman method is implemented thanks to Networkx"
      ]
    },
    {
      "cell_type": "code",
      "execution_count": null,
      "metadata": {
        "id": "e53767dd",
        "outputId": "8564fb5a-b386-46bb-8e7e-378e222e9625"
      },
      "outputs": [
        {
          "data": {
            "text/html": [
              "<div>\n",
              "<style scoped>\n",
              "    .dataframe tbody tr th:only-of-type {\n",
              "        vertical-align: middle;\n",
              "    }\n",
              "\n",
              "    .dataframe tbody tr th {\n",
              "        vertical-align: top;\n",
              "    }\n",
              "\n",
              "    .dataframe thead th {\n",
              "        text-align: right;\n",
              "    }\n",
              "</style>\n",
              "<table border=\"1\" class=\"dataframe\">\n",
              "  <thead>\n",
              "    <tr style=\"text-align: right;\">\n",
              "      <th></th>\n",
              "      <th>0</th>\n",
              "      <th>1</th>\n",
              "      <th>2</th>\n",
              "      <th>3</th>\n",
              "      <th>4</th>\n",
              "      <th>5</th>\n",
              "      <th>6</th>\n",
              "      <th>7</th>\n",
              "      <th>8</th>\n",
              "      <th>9</th>\n",
              "      <th>...</th>\n",
              "      <th>13</th>\n",
              "      <th>14</th>\n",
              "      <th>15</th>\n",
              "      <th>16</th>\n",
              "      <th>17</th>\n",
              "      <th>18</th>\n",
              "      <th>19</th>\n",
              "      <th>20</th>\n",
              "      <th>21</th>\n",
              "      <th>22</th>\n",
              "    </tr>\n",
              "  </thead>\n",
              "  <tbody>\n",
              "    <tr>\n",
              "      <th>0</th>\n",
              "      <td>{PRINCESS ZANDA, IRON MAN IV/JAMES R., HOGAN, ...</td>\n",
              "      <td>{GOLDEN-BLADE}</td>\n",
              "      <td>None</td>\n",
              "      <td>None</td>\n",
              "      <td>None</td>\n",
              "      <td>None</td>\n",
              "      <td>None</td>\n",
              "      <td>None</td>\n",
              "      <td>None</td>\n",
              "      <td>None</td>\n",
              "      <td>...</td>\n",
              "      <td>None</td>\n",
              "      <td>None</td>\n",
              "      <td>None</td>\n",
              "      <td>None</td>\n",
              "      <td>None</td>\n",
              "      <td>None</td>\n",
              "      <td>None</td>\n",
              "      <td>None</td>\n",
              "      <td>None</td>\n",
              "      <td>None</td>\n",
              "    </tr>\n",
              "    <tr>\n",
              "      <th>1</th>\n",
              "      <td>{PRINCESS ZANDA, IRON MAN IV/JAMES R., HOGAN, ...</td>\n",
              "      <td>{GOLDEN-BLADE}</td>\n",
              "      <td>{DIXON, GENERAL}</td>\n",
              "      <td>None</td>\n",
              "      <td>None</td>\n",
              "      <td>None</td>\n",
              "      <td>None</td>\n",
              "      <td>None</td>\n",
              "      <td>None</td>\n",
              "      <td>None</td>\n",
              "      <td>...</td>\n",
              "      <td>None</td>\n",
              "      <td>None</td>\n",
              "      <td>None</td>\n",
              "      <td>None</td>\n",
              "      <td>None</td>\n",
              "      <td>None</td>\n",
              "      <td>None</td>\n",
              "      <td>None</td>\n",
              "      <td>None</td>\n",
              "      <td>None</td>\n",
              "    </tr>\n",
              "    <tr>\n",
              "      <th>2</th>\n",
              "      <td>{PRINCESS ZANDA, HOGAN, VIRGINIA PEPP, TEMPEST...</td>\n",
              "      <td>{GOLDEN-BLADE}</td>\n",
              "      <td>{DIXON, GENERAL}</td>\n",
              "      <td>{IRON MAN IV/JAMES R.}</td>\n",
              "      <td>None</td>\n",
              "      <td>None</td>\n",
              "      <td>None</td>\n",
              "      <td>None</td>\n",
              "      <td>None</td>\n",
              "      <td>None</td>\n",
              "      <td>...</td>\n",
              "      <td>None</td>\n",
              "      <td>None</td>\n",
              "      <td>None</td>\n",
              "      <td>None</td>\n",
              "      <td>None</td>\n",
              "      <td>None</td>\n",
              "      <td>None</td>\n",
              "      <td>None</td>\n",
              "      <td>None</td>\n",
              "      <td>None</td>\n",
              "    </tr>\n",
              "    <tr>\n",
              "      <th>3</th>\n",
              "      <td>{PRINCESS ZANDA, HOGAN, VIRGINIA PEPP, TEMPEST...</td>\n",
              "      <td>{GOLDEN-BLADE}</td>\n",
              "      <td>{DIXON, GENERAL}</td>\n",
              "      <td>{IRON MAN IV/JAMES R.}</td>\n",
              "      <td>{JOCASTA}</td>\n",
              "      <td>None</td>\n",
              "      <td>None</td>\n",
              "      <td>None</td>\n",
              "      <td>None</td>\n",
              "      <td>None</td>\n",
              "      <td>...</td>\n",
              "      <td>None</td>\n",
              "      <td>None</td>\n",
              "      <td>None</td>\n",
              "      <td>None</td>\n",
              "      <td>None</td>\n",
              "      <td>None</td>\n",
              "      <td>None</td>\n",
              "      <td>None</td>\n",
              "      <td>None</td>\n",
              "      <td>None</td>\n",
              "    </tr>\n",
              "    <tr>\n",
              "      <th>4</th>\n",
              "      <td>{FIN FANG FOOM/MIDGAR, PRINCESS ZANDA, IRON MA...</td>\n",
              "      <td>{GOLDEN-BLADE}</td>\n",
              "      <td>{DIXON, GENERAL}</td>\n",
              "      <td>{IRON MAN IV/JAMES R.}</td>\n",
              "      <td>{JOCASTA}</td>\n",
              "      <td>{FUJIKAWA, RUMIKO}</td>\n",
              "      <td>None</td>\n",
              "      <td>None</td>\n",
              "      <td>None</td>\n",
              "      <td>None</td>\n",
              "      <td>...</td>\n",
              "      <td>None</td>\n",
              "      <td>None</td>\n",
              "      <td>None</td>\n",
              "      <td>None</td>\n",
              "      <td>None</td>\n",
              "      <td>None</td>\n",
              "      <td>None</td>\n",
              "      <td>None</td>\n",
              "      <td>None</td>\n",
              "      <td>None</td>\n",
              "    </tr>\n",
              "    <tr>\n",
              "      <th>5</th>\n",
              "      <td>{FIN FANG FOOM/MIDGAR, PRINCESS ZANDA, IRON MA...</td>\n",
              "      <td>{GOLDEN-BLADE}</td>\n",
              "      <td>{DIXON, GENERAL}</td>\n",
              "      <td>{IRON MAN IV/JAMES R.}</td>\n",
              "      <td>{JOCASTA}</td>\n",
              "      <td>{FUJIKAWA, RUMIKO}</td>\n",
              "      <td>{MADAME MENACE/SUNSET}</td>\n",
              "      <td>None</td>\n",
              "      <td>None</td>\n",
              "      <td>None</td>\n",
              "      <td>...</td>\n",
              "      <td>None</td>\n",
              "      <td>None</td>\n",
              "      <td>None</td>\n",
              "      <td>None</td>\n",
              "      <td>None</td>\n",
              "      <td>None</td>\n",
              "      <td>None</td>\n",
              "      <td>None</td>\n",
              "      <td>None</td>\n",
              "      <td>None</td>\n",
              "    </tr>\n",
              "    <tr>\n",
              "      <th>6</th>\n",
              "      <td>{FIN FANG FOOM/MIDGAR, PRINCESS ZANDA, IRON MA...</td>\n",
              "      <td>{GOLDEN-BLADE}</td>\n",
              "      <td>{DIXON, GENERAL}</td>\n",
              "      <td>{IRON MAN IV/JAMES R.}</td>\n",
              "      <td>{JOCASTA}</td>\n",
              "      <td>{FUJIKAWA, RUMIKO}</td>\n",
              "      <td>{MADAME MENACE/SUNSET}</td>\n",
              "      <td>{JACOBS, GLENDA}</td>\n",
              "      <td>None</td>\n",
              "      <td>None</td>\n",
              "      <td>...</td>\n",
              "      <td>None</td>\n",
              "      <td>None</td>\n",
              "      <td>None</td>\n",
              "      <td>None</td>\n",
              "      <td>None</td>\n",
              "      <td>None</td>\n",
              "      <td>None</td>\n",
              "      <td>None</td>\n",
              "      <td>None</td>\n",
              "      <td>None</td>\n",
              "    </tr>\n",
              "    <tr>\n",
              "      <th>7</th>\n",
              "      <td>{FIN FANG FOOM/MIDGAR, PRINCESS ZANDA, IRON MA...</td>\n",
              "      <td>{GOLDEN-BLADE}</td>\n",
              "      <td>{DIXON, GENERAL}</td>\n",
              "      <td>{IRON MAN IV/JAMES R.}</td>\n",
              "      <td>{JOCASTA}</td>\n",
              "      <td>{FUJIKAWA, RUMIKO}</td>\n",
              "      <td>{MADAME MENACE/SUNSET}</td>\n",
              "      <td>{JACOBS, GLENDA}</td>\n",
              "      <td>{WAR MACHINE II/PARNE}</td>\n",
              "      <td>None</td>\n",
              "      <td>...</td>\n",
              "      <td>None</td>\n",
              "      <td>None</td>\n",
              "      <td>None</td>\n",
              "      <td>None</td>\n",
              "      <td>None</td>\n",
              "      <td>None</td>\n",
              "      <td>None</td>\n",
              "      <td>None</td>\n",
              "      <td>None</td>\n",
              "      <td>None</td>\n",
              "    </tr>\n",
              "    <tr>\n",
              "      <th>8</th>\n",
              "      <td>{FIN FANG FOOM/MIDGAR, PRINCESS ZANDA, IRON MA...</td>\n",
              "      <td>{GOLDEN-BLADE}</td>\n",
              "      <td>{DIXON, GENERAL}</td>\n",
              "      <td>{IRON MAN IV/JAMES R.}</td>\n",
              "      <td>{JOCASTA}</td>\n",
              "      <td>{FUJIKAWA, RUMIKO}</td>\n",
              "      <td>{MADAME MENACE/SUNSET}</td>\n",
              "      <td>{JACOBS, GLENDA}</td>\n",
              "      <td>{WAR MACHINE II/PARNE}</td>\n",
              "      <td>{SAPPER}</td>\n",
              "      <td>...</td>\n",
              "      <td>None</td>\n",
              "      <td>None</td>\n",
              "      <td>None</td>\n",
              "      <td>None</td>\n",
              "      <td>None</td>\n",
              "      <td>None</td>\n",
              "      <td>None</td>\n",
              "      <td>None</td>\n",
              "      <td>None</td>\n",
              "      <td>None</td>\n",
              "    </tr>\n",
              "    <tr>\n",
              "      <th>9</th>\n",
              "      <td>{FIN FANG FOOM/MIDGAR, PRINCESS ZANDA, IRON MA...</td>\n",
              "      <td>{GOLDEN-BLADE}</td>\n",
              "      <td>{DIXON, GENERAL}</td>\n",
              "      <td>{IRON MAN IV/JAMES R.}</td>\n",
              "      <td>{JOCASTA}</td>\n",
              "      <td>{FUJIKAWA, RUMIKO}</td>\n",
              "      <td>{MADAME MENACE/SUNSET}</td>\n",
              "      <td>{JACOBS, GLENDA}</td>\n",
              "      <td>{WAR MACHINE II/PARNE}</td>\n",
              "      <td>{SAPPER}</td>\n",
              "      <td>...</td>\n",
              "      <td>None</td>\n",
              "      <td>None</td>\n",
              "      <td>None</td>\n",
              "      <td>None</td>\n",
              "      <td>None</td>\n",
              "      <td>None</td>\n",
              "      <td>None</td>\n",
              "      <td>None</td>\n",
              "      <td>None</td>\n",
              "      <td>None</td>\n",
              "    </tr>\n",
              "    <tr>\n",
              "      <th>10</th>\n",
              "      <td>{PRINCESS ZANDA, IRON MAN/TONY STARK , HOGAN, ...</td>\n",
              "      <td>{GOLDEN-BLADE}</td>\n",
              "      <td>{DIXON, GENERAL}</td>\n",
              "      <td>{IRON MAN IV/JAMES R.}</td>\n",
              "      <td>{JOCASTA}</td>\n",
              "      <td>{FUJIKAWA, RUMIKO}</td>\n",
              "      <td>{MADAME MENACE/SUNSET}</td>\n",
              "      <td>{JACOBS, GLENDA}</td>\n",
              "      <td>{WAR MACHINE II/PARNE}</td>\n",
              "      <td>{SAPPER}</td>\n",
              "      <td>...</td>\n",
              "      <td>None</td>\n",
              "      <td>None</td>\n",
              "      <td>None</td>\n",
              "      <td>None</td>\n",
              "      <td>None</td>\n",
              "      <td>None</td>\n",
              "      <td>None</td>\n",
              "      <td>None</td>\n",
              "      <td>None</td>\n",
              "      <td>None</td>\n",
              "    </tr>\n",
              "    <tr>\n",
              "      <th>11</th>\n",
              "      <td>{PRINCESS ZANDA, IRON MAN/TONY STARK , HOGAN, ...</td>\n",
              "      <td>{GOLDEN-BLADE}</td>\n",
              "      <td>{DIXON, GENERAL}</td>\n",
              "      <td>{IRON MAN IV/JAMES R.}</td>\n",
              "      <td>{JOCASTA}</td>\n",
              "      <td>{FUJIKAWA, RUMIKO}</td>\n",
              "      <td>{MADAME MENACE/SUNSET}</td>\n",
              "      <td>{JACOBS, GLENDA}</td>\n",
              "      <td>{WAR MACHINE II/PARNE}</td>\n",
              "      <td>{SAPPER}</td>\n",
              "      <td>...</td>\n",
              "      <td>None</td>\n",
              "      <td>None</td>\n",
              "      <td>None</td>\n",
              "      <td>None</td>\n",
              "      <td>None</td>\n",
              "      <td>None</td>\n",
              "      <td>None</td>\n",
              "      <td>None</td>\n",
              "      <td>None</td>\n",
              "      <td>None</td>\n",
              "    </tr>\n",
              "    <tr>\n",
              "      <th>12</th>\n",
              "      <td>{PRINCESS ZANDA, IRON MAN/TONY STARK , HOGAN, ...</td>\n",
              "      <td>{GOLDEN-BLADE}</td>\n",
              "      <td>{DIXON, GENERAL}</td>\n",
              "      <td>{IRON MAN IV/JAMES R.}</td>\n",
              "      <td>{JOCASTA}</td>\n",
              "      <td>{FUJIKAWA, RUMIKO}</td>\n",
              "      <td>{MADAME MENACE/SUNSET}</td>\n",
              "      <td>{JACOBS, GLENDA}</td>\n",
              "      <td>{WAR MACHINE II/PARNE}</td>\n",
              "      <td>{SAPPER}</td>\n",
              "      <td>...</td>\n",
              "      <td>{DECAY II/YOSHIRO HAC}</td>\n",
              "      <td>None</td>\n",
              "      <td>None</td>\n",
              "      <td>None</td>\n",
              "      <td>None</td>\n",
              "      <td>None</td>\n",
              "      <td>None</td>\n",
              "      <td>None</td>\n",
              "      <td>None</td>\n",
              "      <td>None</td>\n",
              "    </tr>\n",
              "    <tr>\n",
              "      <th>13</th>\n",
              "      <td>{PRINCESS ZANDA, IRON MAN/TONY STARK , HOGAN, ...</td>\n",
              "      <td>{BLACK PANTHER/T'CHAL}</td>\n",
              "      <td>{GOLDEN-BLADE}</td>\n",
              "      <td>{DIXON, GENERAL}</td>\n",
              "      <td>{IRON MAN IV/JAMES R.}</td>\n",
              "      <td>{JOCASTA}</td>\n",
              "      <td>{FUJIKAWA, RUMIKO}</td>\n",
              "      <td>{MADAME MENACE/SUNSET}</td>\n",
              "      <td>{JACOBS, GLENDA}</td>\n",
              "      <td>{WAR MACHINE II/PARNE}</td>\n",
              "      <td>...</td>\n",
              "      <td>{INFERNO III/SAMANTHA}</td>\n",
              "      <td>{DECAY II/YOSHIRO HAC}</td>\n",
              "      <td>None</td>\n",
              "      <td>None</td>\n",
              "      <td>None</td>\n",
              "      <td>None</td>\n",
              "      <td>None</td>\n",
              "      <td>None</td>\n",
              "      <td>None</td>\n",
              "      <td>None</td>\n",
              "    </tr>\n",
              "    <tr>\n",
              "      <th>14</th>\n",
              "      <td>{PRINCESS ZANDA, IRON MAN/TONY STARK , HOGAN, ...</td>\n",
              "      <td>{BLACK PANTHER/T'CHAL}</td>\n",
              "      <td>{CARNIVORE/COUNT ANDR}</td>\n",
              "      <td>{GOLDEN-BLADE}</td>\n",
              "      <td>{DIXON, GENERAL}</td>\n",
              "      <td>{IRON MAN IV/JAMES R.}</td>\n",
              "      <td>{JOCASTA}</td>\n",
              "      <td>{FUJIKAWA, RUMIKO}</td>\n",
              "      <td>{MADAME MENACE/SUNSET}</td>\n",
              "      <td>{JACOBS, GLENDA}</td>\n",
              "      <td>...</td>\n",
              "      <td>{FIN FANG FOOM/MIDGAR}</td>\n",
              "      <td>{INFERNO III/SAMANTHA}</td>\n",
              "      <td>{DECAY II/YOSHIRO HAC}</td>\n",
              "      <td>None</td>\n",
              "      <td>None</td>\n",
              "      <td>None</td>\n",
              "      <td>None</td>\n",
              "      <td>None</td>\n",
              "      <td>None</td>\n",
              "      <td>None</td>\n",
              "    </tr>\n",
              "    <tr>\n",
              "      <th>15</th>\n",
              "      <td>{PRINCESS ZANDA, HOGAN, VIRGINIA PEPP, TEMPEST...</td>\n",
              "      <td>{BLACK PANTHER/T'CHAL}</td>\n",
              "      <td>{CARNIVORE/COUNT ANDR}</td>\n",
              "      <td>{IRON MAN/TONY STARK }</td>\n",
              "      <td>{GOLDEN-BLADE}</td>\n",
              "      <td>{DIXON, GENERAL}</td>\n",
              "      <td>{IRON MAN IV/JAMES R.}</td>\n",
              "      <td>{JOCASTA}</td>\n",
              "      <td>{FUJIKAWA, RUMIKO}</td>\n",
              "      <td>{MADAME MENACE/SUNSET}</td>\n",
              "      <td>...</td>\n",
              "      <td>{BINARY/CAROL DANVERS}</td>\n",
              "      <td>{FIN FANG FOOM/MIDGAR}</td>\n",
              "      <td>{INFERNO III/SAMANTHA}</td>\n",
              "      <td>{DECAY II/YOSHIRO HAC}</td>\n",
              "      <td>None</td>\n",
              "      <td>None</td>\n",
              "      <td>None</td>\n",
              "      <td>None</td>\n",
              "      <td>None</td>\n",
              "      <td>None</td>\n",
              "    </tr>\n",
              "    <tr>\n",
              "      <th>16</th>\n",
              "      <td>{PRINCESS ZANDA, TEMPEST II/NICOLETTE, THOR/DR...</td>\n",
              "      <td>{BLACK PANTHER/T'CHAL}</td>\n",
              "      <td>{CARNIVORE/COUNT ANDR}</td>\n",
              "      <td>{IRON MAN/TONY STARK }</td>\n",
              "      <td>{GOLDEN-BLADE}</td>\n",
              "      <td>{DIXON, GENERAL}</td>\n",
              "      <td>{IRON MAN IV/JAMES R.}</td>\n",
              "      <td>{JOCASTA}</td>\n",
              "      <td>{FUJIKAWA, RUMIKO}</td>\n",
              "      <td>{MADAME MENACE/SUNSET}</td>\n",
              "      <td>...</td>\n",
              "      <td>{HOGAN, VIRGINIA PEPP}</td>\n",
              "      <td>{BINARY/CAROL DANVERS}</td>\n",
              "      <td>{FIN FANG FOOM/MIDGAR}</td>\n",
              "      <td>{INFERNO III/SAMANTHA}</td>\n",
              "      <td>{DECAY II/YOSHIRO HAC}</td>\n",
              "      <td>None</td>\n",
              "      <td>None</td>\n",
              "      <td>None</td>\n",
              "      <td>None</td>\n",
              "      <td>None</td>\n",
              "    </tr>\n",
              "    <tr>\n",
              "      <th>17</th>\n",
              "      <td>{PRINCESS ZANDA, TEMPEST II/NICOLETTE, THOR/DR...</td>\n",
              "      <td>{BLACK PANTHER/T'CHAL}</td>\n",
              "      <td>{CARNIVORE/COUNT ANDR}</td>\n",
              "      <td>{IRON MAN/TONY STARK }</td>\n",
              "      <td>{GOLDEN-BLADE}</td>\n",
              "      <td>{DIXON, GENERAL}</td>\n",
              "      <td>{IRON MAN IV/JAMES R.}</td>\n",
              "      <td>{JOCASTA}</td>\n",
              "      <td>{FUJIKAWA, RUMIKO}</td>\n",
              "      <td>{MADAME MENACE/SUNSET}</td>\n",
              "      <td>...</td>\n",
              "      <td>{HOGAN, VIRGINIA PEPP}</td>\n",
              "      <td>{BINARY/CAROL DANVERS}</td>\n",
              "      <td>{FIN FANG FOOM/MIDGAR}</td>\n",
              "      <td>{MANN, DR. J. VERNON }</td>\n",
              "      <td>{INFERNO III/SAMANTHA}</td>\n",
              "      <td>{DECAY II/YOSHIRO HAC}</td>\n",
              "      <td>None</td>\n",
              "      <td>None</td>\n",
              "      <td>None</td>\n",
              "      <td>None</td>\n",
              "    </tr>\n",
              "    <tr>\n",
              "      <th>18</th>\n",
              "      <td>{TEMPEST II/NICOLETTE, JARVIS, EDWIN , LITTLE,...</td>\n",
              "      <td>{BLACK PANTHER/T'CHAL}</td>\n",
              "      <td>{CARNIVORE/COUNT ANDR}</td>\n",
              "      <td>{IRON MAN/TONY STARK }</td>\n",
              "      <td>{GOLDEN-BLADE}</td>\n",
              "      <td>{DIXON, GENERAL}</td>\n",
              "      <td>{IRON MAN IV/JAMES R.}</td>\n",
              "      <td>{JOCASTA}</td>\n",
              "      <td>{FUJIKAWA, RUMIKO}</td>\n",
              "      <td>{MADAME MENACE/SUNSET}</td>\n",
              "      <td>...</td>\n",
              "      <td>{HOGAN, VIRGINIA PEPP}</td>\n",
              "      <td>{BINARY/CAROL DANVERS}</td>\n",
              "      <td>{FIN FANG FOOM/MIDGAR}</td>\n",
              "      <td>{MANN, DR. J. VERNON }</td>\n",
              "      <td>{THOR/DR. DONALD BLAK}</td>\n",
              "      <td>{INFERNO III/SAMANTHA}</td>\n",
              "      <td>{DECAY II/YOSHIRO HAC}</td>\n",
              "      <td>None</td>\n",
              "      <td>None</td>\n",
              "      <td>None</td>\n",
              "    </tr>\n",
              "    <tr>\n",
              "      <th>19</th>\n",
              "      <td>{JARVIS, EDWIN , LITTLE, ABNER, PRINCESS ZANDA}</td>\n",
              "      <td>{BLACK PANTHER/T'CHAL}</td>\n",
              "      <td>{CARNIVORE/COUNT ANDR}</td>\n",
              "      <td>{IRON MAN/TONY STARK }</td>\n",
              "      <td>{GOLDEN-BLADE}</td>\n",
              "      <td>{DIXON, GENERAL}</td>\n",
              "      <td>{IRON MAN IV/JAMES R.}</td>\n",
              "      <td>{JOCASTA}</td>\n",
              "      <td>{FUJIKAWA, RUMIKO}</td>\n",
              "      <td>{MADAME MENACE/SUNSET}</td>\n",
              "      <td>...</td>\n",
              "      <td>{HOGAN, VIRGINIA PEPP}</td>\n",
              "      <td>{BINARY/CAROL DANVERS}</td>\n",
              "      <td>{FIN FANG FOOM/MIDGAR}</td>\n",
              "      <td>{MANN, DR. J. VERNON }</td>\n",
              "      <td>{THOR/DR. DONALD BLAK}</td>\n",
              "      <td>{TEMPEST II/NICOLETTE}</td>\n",
              "      <td>{INFERNO III/SAMANTHA}</td>\n",
              "      <td>{DECAY II/YOSHIRO HAC}</td>\n",
              "      <td>None</td>\n",
              "      <td>None</td>\n",
              "    </tr>\n",
              "    <tr>\n",
              "      <th>20</th>\n",
              "      <td>{LITTLE, ABNER}</td>\n",
              "      <td>{JARVIS, EDWIN , PRINCESS ZANDA}</td>\n",
              "      <td>{BLACK PANTHER/T'CHAL}</td>\n",
              "      <td>{CARNIVORE/COUNT ANDR}</td>\n",
              "      <td>{IRON MAN/TONY STARK }</td>\n",
              "      <td>{GOLDEN-BLADE}</td>\n",
              "      <td>{DIXON, GENERAL}</td>\n",
              "      <td>{IRON MAN IV/JAMES R.}</td>\n",
              "      <td>{JOCASTA}</td>\n",
              "      <td>{FUJIKAWA, RUMIKO}</td>\n",
              "      <td>...</td>\n",
              "      <td>{SAPPER}</td>\n",
              "      <td>{HOGAN, VIRGINIA PEPP}</td>\n",
              "      <td>{BINARY/CAROL DANVERS}</td>\n",
              "      <td>{FIN FANG FOOM/MIDGAR}</td>\n",
              "      <td>{MANN, DR. J. VERNON }</td>\n",
              "      <td>{THOR/DR. DONALD BLAK}</td>\n",
              "      <td>{TEMPEST II/NICOLETTE}</td>\n",
              "      <td>{INFERNO III/SAMANTHA}</td>\n",
              "      <td>{DECAY II/YOSHIRO HAC}</td>\n",
              "      <td>None</td>\n",
              "    </tr>\n",
              "    <tr>\n",
              "      <th>21</th>\n",
              "      <td>{LITTLE, ABNER}</td>\n",
              "      <td>{PRINCESS ZANDA}</td>\n",
              "      <td>{BLACK PANTHER/T'CHAL}</td>\n",
              "      <td>{CARNIVORE/COUNT ANDR}</td>\n",
              "      <td>{IRON MAN/TONY STARK }</td>\n",
              "      <td>{GOLDEN-BLADE}</td>\n",
              "      <td>{DIXON, GENERAL}</td>\n",
              "      <td>{IRON MAN IV/JAMES R.}</td>\n",
              "      <td>{JOCASTA}</td>\n",
              "      <td>{FUJIKAWA, RUMIKO}</td>\n",
              "      <td>...</td>\n",
              "      <td>{SAPPER}</td>\n",
              "      <td>{HOGAN, VIRGINIA PEPP}</td>\n",
              "      <td>{BINARY/CAROL DANVERS}</td>\n",
              "      <td>{FIN FANG FOOM/MIDGAR}</td>\n",
              "      <td>{MANN, DR. J. VERNON }</td>\n",
              "      <td>{THOR/DR. DONALD BLAK}</td>\n",
              "      <td>{TEMPEST II/NICOLETTE}</td>\n",
              "      <td>{JARVIS, EDWIN }</td>\n",
              "      <td>{INFERNO III/SAMANTHA}</td>\n",
              "      <td>{DECAY II/YOSHIRO HAC}</td>\n",
              "    </tr>\n",
              "  </tbody>\n",
              "</table>\n",
              "<p>22 rows × 23 columns</p>\n",
              "</div>"
            ],
            "text/plain": [
              "                                                   0   \\\n",
              "0   {PRINCESS ZANDA, IRON MAN IV/JAMES R., HOGAN, ...   \n",
              "1   {PRINCESS ZANDA, IRON MAN IV/JAMES R., HOGAN, ...   \n",
              "2   {PRINCESS ZANDA, HOGAN, VIRGINIA PEPP, TEMPEST...   \n",
              "3   {PRINCESS ZANDA, HOGAN, VIRGINIA PEPP, TEMPEST...   \n",
              "4   {FIN FANG FOOM/MIDGAR, PRINCESS ZANDA, IRON MA...   \n",
              "5   {FIN FANG FOOM/MIDGAR, PRINCESS ZANDA, IRON MA...   \n",
              "6   {FIN FANG FOOM/MIDGAR, PRINCESS ZANDA, IRON MA...   \n",
              "7   {FIN FANG FOOM/MIDGAR, PRINCESS ZANDA, IRON MA...   \n",
              "8   {FIN FANG FOOM/MIDGAR, PRINCESS ZANDA, IRON MA...   \n",
              "9   {FIN FANG FOOM/MIDGAR, PRINCESS ZANDA, IRON MA...   \n",
              "10  {PRINCESS ZANDA, IRON MAN/TONY STARK , HOGAN, ...   \n",
              "11  {PRINCESS ZANDA, IRON MAN/TONY STARK , HOGAN, ...   \n",
              "12  {PRINCESS ZANDA, IRON MAN/TONY STARK , HOGAN, ...   \n",
              "13  {PRINCESS ZANDA, IRON MAN/TONY STARK , HOGAN, ...   \n",
              "14  {PRINCESS ZANDA, IRON MAN/TONY STARK , HOGAN, ...   \n",
              "15  {PRINCESS ZANDA, HOGAN, VIRGINIA PEPP, TEMPEST...   \n",
              "16  {PRINCESS ZANDA, TEMPEST II/NICOLETTE, THOR/DR...   \n",
              "17  {PRINCESS ZANDA, TEMPEST II/NICOLETTE, THOR/DR...   \n",
              "18  {TEMPEST II/NICOLETTE, JARVIS, EDWIN , LITTLE,...   \n",
              "19    {JARVIS, EDWIN , LITTLE, ABNER, PRINCESS ZANDA}   \n",
              "20                                    {LITTLE, ABNER}   \n",
              "21                                    {LITTLE, ABNER}   \n",
              "\n",
              "                                  1                       2   \\\n",
              "0                     {GOLDEN-BLADE}                    None   \n",
              "1                     {GOLDEN-BLADE}        {DIXON, GENERAL}   \n",
              "2                     {GOLDEN-BLADE}        {DIXON, GENERAL}   \n",
              "3                     {GOLDEN-BLADE}        {DIXON, GENERAL}   \n",
              "4                     {GOLDEN-BLADE}        {DIXON, GENERAL}   \n",
              "5                     {GOLDEN-BLADE}        {DIXON, GENERAL}   \n",
              "6                     {GOLDEN-BLADE}        {DIXON, GENERAL}   \n",
              "7                     {GOLDEN-BLADE}        {DIXON, GENERAL}   \n",
              "8                     {GOLDEN-BLADE}        {DIXON, GENERAL}   \n",
              "9                     {GOLDEN-BLADE}        {DIXON, GENERAL}   \n",
              "10                    {GOLDEN-BLADE}        {DIXON, GENERAL}   \n",
              "11                    {GOLDEN-BLADE}        {DIXON, GENERAL}   \n",
              "12                    {GOLDEN-BLADE}        {DIXON, GENERAL}   \n",
              "13            {BLACK PANTHER/T'CHAL}          {GOLDEN-BLADE}   \n",
              "14            {BLACK PANTHER/T'CHAL}  {CARNIVORE/COUNT ANDR}   \n",
              "15            {BLACK PANTHER/T'CHAL}  {CARNIVORE/COUNT ANDR}   \n",
              "16            {BLACK PANTHER/T'CHAL}  {CARNIVORE/COUNT ANDR}   \n",
              "17            {BLACK PANTHER/T'CHAL}  {CARNIVORE/COUNT ANDR}   \n",
              "18            {BLACK PANTHER/T'CHAL}  {CARNIVORE/COUNT ANDR}   \n",
              "19            {BLACK PANTHER/T'CHAL}  {CARNIVORE/COUNT ANDR}   \n",
              "20  {JARVIS, EDWIN , PRINCESS ZANDA}  {BLACK PANTHER/T'CHAL}   \n",
              "21                  {PRINCESS ZANDA}  {BLACK PANTHER/T'CHAL}   \n",
              "\n",
              "                        3                       4                       5   \\\n",
              "0                     None                    None                    None   \n",
              "1                     None                    None                    None   \n",
              "2   {IRON MAN IV/JAMES R.}                    None                    None   \n",
              "3   {IRON MAN IV/JAMES R.}               {JOCASTA}                    None   \n",
              "4   {IRON MAN IV/JAMES R.}               {JOCASTA}      {FUJIKAWA, RUMIKO}   \n",
              "5   {IRON MAN IV/JAMES R.}               {JOCASTA}      {FUJIKAWA, RUMIKO}   \n",
              "6   {IRON MAN IV/JAMES R.}               {JOCASTA}      {FUJIKAWA, RUMIKO}   \n",
              "7   {IRON MAN IV/JAMES R.}               {JOCASTA}      {FUJIKAWA, RUMIKO}   \n",
              "8   {IRON MAN IV/JAMES R.}               {JOCASTA}      {FUJIKAWA, RUMIKO}   \n",
              "9   {IRON MAN IV/JAMES R.}               {JOCASTA}      {FUJIKAWA, RUMIKO}   \n",
              "10  {IRON MAN IV/JAMES R.}               {JOCASTA}      {FUJIKAWA, RUMIKO}   \n",
              "11  {IRON MAN IV/JAMES R.}               {JOCASTA}      {FUJIKAWA, RUMIKO}   \n",
              "12  {IRON MAN IV/JAMES R.}               {JOCASTA}      {FUJIKAWA, RUMIKO}   \n",
              "13        {DIXON, GENERAL}  {IRON MAN IV/JAMES R.}               {JOCASTA}   \n",
              "14          {GOLDEN-BLADE}        {DIXON, GENERAL}  {IRON MAN IV/JAMES R.}   \n",
              "15  {IRON MAN/TONY STARK }          {GOLDEN-BLADE}        {DIXON, GENERAL}   \n",
              "16  {IRON MAN/TONY STARK }          {GOLDEN-BLADE}        {DIXON, GENERAL}   \n",
              "17  {IRON MAN/TONY STARK }          {GOLDEN-BLADE}        {DIXON, GENERAL}   \n",
              "18  {IRON MAN/TONY STARK }          {GOLDEN-BLADE}        {DIXON, GENERAL}   \n",
              "19  {IRON MAN/TONY STARK }          {GOLDEN-BLADE}        {DIXON, GENERAL}   \n",
              "20  {CARNIVORE/COUNT ANDR}  {IRON MAN/TONY STARK }          {GOLDEN-BLADE}   \n",
              "21  {CARNIVORE/COUNT ANDR}  {IRON MAN/TONY STARK }          {GOLDEN-BLADE}   \n",
              "\n",
              "                        6                       7                       8   \\\n",
              "0                     None                    None                    None   \n",
              "1                     None                    None                    None   \n",
              "2                     None                    None                    None   \n",
              "3                     None                    None                    None   \n",
              "4                     None                    None                    None   \n",
              "5   {MADAME MENACE/SUNSET}                    None                    None   \n",
              "6   {MADAME MENACE/SUNSET}        {JACOBS, GLENDA}                    None   \n",
              "7   {MADAME MENACE/SUNSET}        {JACOBS, GLENDA}  {WAR MACHINE II/PARNE}   \n",
              "8   {MADAME MENACE/SUNSET}        {JACOBS, GLENDA}  {WAR MACHINE II/PARNE}   \n",
              "9   {MADAME MENACE/SUNSET}        {JACOBS, GLENDA}  {WAR MACHINE II/PARNE}   \n",
              "10  {MADAME MENACE/SUNSET}        {JACOBS, GLENDA}  {WAR MACHINE II/PARNE}   \n",
              "11  {MADAME MENACE/SUNSET}        {JACOBS, GLENDA}  {WAR MACHINE II/PARNE}   \n",
              "12  {MADAME MENACE/SUNSET}        {JACOBS, GLENDA}  {WAR MACHINE II/PARNE}   \n",
              "13      {FUJIKAWA, RUMIKO}  {MADAME MENACE/SUNSET}        {JACOBS, GLENDA}   \n",
              "14               {JOCASTA}      {FUJIKAWA, RUMIKO}  {MADAME MENACE/SUNSET}   \n",
              "15  {IRON MAN IV/JAMES R.}               {JOCASTA}      {FUJIKAWA, RUMIKO}   \n",
              "16  {IRON MAN IV/JAMES R.}               {JOCASTA}      {FUJIKAWA, RUMIKO}   \n",
              "17  {IRON MAN IV/JAMES R.}               {JOCASTA}      {FUJIKAWA, RUMIKO}   \n",
              "18  {IRON MAN IV/JAMES R.}               {JOCASTA}      {FUJIKAWA, RUMIKO}   \n",
              "19  {IRON MAN IV/JAMES R.}               {JOCASTA}      {FUJIKAWA, RUMIKO}   \n",
              "20        {DIXON, GENERAL}  {IRON MAN IV/JAMES R.}               {JOCASTA}   \n",
              "21        {DIXON, GENERAL}  {IRON MAN IV/JAMES R.}               {JOCASTA}   \n",
              "\n",
              "                        9   ...                      13  \\\n",
              "0                     None  ...                    None   \n",
              "1                     None  ...                    None   \n",
              "2                     None  ...                    None   \n",
              "3                     None  ...                    None   \n",
              "4                     None  ...                    None   \n",
              "5                     None  ...                    None   \n",
              "6                     None  ...                    None   \n",
              "7                     None  ...                    None   \n",
              "8                 {SAPPER}  ...                    None   \n",
              "9                 {SAPPER}  ...                    None   \n",
              "10                {SAPPER}  ...                    None   \n",
              "11                {SAPPER}  ...                    None   \n",
              "12                {SAPPER}  ...  {DECAY II/YOSHIRO HAC}   \n",
              "13  {WAR MACHINE II/PARNE}  ...  {INFERNO III/SAMANTHA}   \n",
              "14        {JACOBS, GLENDA}  ...  {FIN FANG FOOM/MIDGAR}   \n",
              "15  {MADAME MENACE/SUNSET}  ...  {BINARY/CAROL DANVERS}   \n",
              "16  {MADAME MENACE/SUNSET}  ...  {HOGAN, VIRGINIA PEPP}   \n",
              "17  {MADAME MENACE/SUNSET}  ...  {HOGAN, VIRGINIA PEPP}   \n",
              "18  {MADAME MENACE/SUNSET}  ...  {HOGAN, VIRGINIA PEPP}   \n",
              "19  {MADAME MENACE/SUNSET}  ...  {HOGAN, VIRGINIA PEPP}   \n",
              "20      {FUJIKAWA, RUMIKO}  ...                {SAPPER}   \n",
              "21      {FUJIKAWA, RUMIKO}  ...                {SAPPER}   \n",
              "\n",
              "                        14                      15                      16  \\\n",
              "0                     None                    None                    None   \n",
              "1                     None                    None                    None   \n",
              "2                     None                    None                    None   \n",
              "3                     None                    None                    None   \n",
              "4                     None                    None                    None   \n",
              "5                     None                    None                    None   \n",
              "6                     None                    None                    None   \n",
              "7                     None                    None                    None   \n",
              "8                     None                    None                    None   \n",
              "9                     None                    None                    None   \n",
              "10                    None                    None                    None   \n",
              "11                    None                    None                    None   \n",
              "12                    None                    None                    None   \n",
              "13  {DECAY II/YOSHIRO HAC}                    None                    None   \n",
              "14  {INFERNO III/SAMANTHA}  {DECAY II/YOSHIRO HAC}                    None   \n",
              "15  {FIN FANG FOOM/MIDGAR}  {INFERNO III/SAMANTHA}  {DECAY II/YOSHIRO HAC}   \n",
              "16  {BINARY/CAROL DANVERS}  {FIN FANG FOOM/MIDGAR}  {INFERNO III/SAMANTHA}   \n",
              "17  {BINARY/CAROL DANVERS}  {FIN FANG FOOM/MIDGAR}  {MANN, DR. J. VERNON }   \n",
              "18  {BINARY/CAROL DANVERS}  {FIN FANG FOOM/MIDGAR}  {MANN, DR. J. VERNON }   \n",
              "19  {BINARY/CAROL DANVERS}  {FIN FANG FOOM/MIDGAR}  {MANN, DR. J. VERNON }   \n",
              "20  {HOGAN, VIRGINIA PEPP}  {BINARY/CAROL DANVERS}  {FIN FANG FOOM/MIDGAR}   \n",
              "21  {HOGAN, VIRGINIA PEPP}  {BINARY/CAROL DANVERS}  {FIN FANG FOOM/MIDGAR}   \n",
              "\n",
              "                        17                      18                      19  \\\n",
              "0                     None                    None                    None   \n",
              "1                     None                    None                    None   \n",
              "2                     None                    None                    None   \n",
              "3                     None                    None                    None   \n",
              "4                     None                    None                    None   \n",
              "5                     None                    None                    None   \n",
              "6                     None                    None                    None   \n",
              "7                     None                    None                    None   \n",
              "8                     None                    None                    None   \n",
              "9                     None                    None                    None   \n",
              "10                    None                    None                    None   \n",
              "11                    None                    None                    None   \n",
              "12                    None                    None                    None   \n",
              "13                    None                    None                    None   \n",
              "14                    None                    None                    None   \n",
              "15                    None                    None                    None   \n",
              "16  {DECAY II/YOSHIRO HAC}                    None                    None   \n",
              "17  {INFERNO III/SAMANTHA}  {DECAY II/YOSHIRO HAC}                    None   \n",
              "18  {THOR/DR. DONALD BLAK}  {INFERNO III/SAMANTHA}  {DECAY II/YOSHIRO HAC}   \n",
              "19  {THOR/DR. DONALD BLAK}  {TEMPEST II/NICOLETTE}  {INFERNO III/SAMANTHA}   \n",
              "20  {MANN, DR. J. VERNON }  {THOR/DR. DONALD BLAK}  {TEMPEST II/NICOLETTE}   \n",
              "21  {MANN, DR. J. VERNON }  {THOR/DR. DONALD BLAK}  {TEMPEST II/NICOLETTE}   \n",
              "\n",
              "                        20                      21                      22  \n",
              "0                     None                    None                    None  \n",
              "1                     None                    None                    None  \n",
              "2                     None                    None                    None  \n",
              "3                     None                    None                    None  \n",
              "4                     None                    None                    None  \n",
              "5                     None                    None                    None  \n",
              "6                     None                    None                    None  \n",
              "7                     None                    None                    None  \n",
              "8                     None                    None                    None  \n",
              "9                     None                    None                    None  \n",
              "10                    None                    None                    None  \n",
              "11                    None                    None                    None  \n",
              "12                    None                    None                    None  \n",
              "13                    None                    None                    None  \n",
              "14                    None                    None                    None  \n",
              "15                    None                    None                    None  \n",
              "16                    None                    None                    None  \n",
              "17                    None                    None                    None  \n",
              "18                    None                    None                    None  \n",
              "19  {DECAY II/YOSHIRO HAC}                    None                    None  \n",
              "20  {INFERNO III/SAMANTHA}  {DECAY II/YOSHIRO HAC}                    None  \n",
              "21        {JARVIS, EDWIN }  {INFERNO III/SAMANTHA}  {DECAY II/YOSHIRO HAC}  \n",
              "\n",
              "[22 rows x 23 columns]"
            ]
          },
          "execution_count": 50,
          "metadata": {},
          "output_type": "execute_result"
        }
      ],
      "source": [
        "from networkx.algorithms import community\n",
        "\n",
        "# communities = hero1_hero2_frame.iloc[200,:]\n",
        "# communities = nx.from_pandas_edgelist(giant_component, 'hero1', 'hero2')\n",
        "\n",
        "communities = nx.community.girvan_newman(giant_component)\n",
        "communities_frame = pd.DataFrame(communities)\n",
        "communities_frame"
      ]
    },
    {
      "cell_type": "markdown",
      "source": [
        "##**5. Bonus**"
      ],
      "metadata": {
        "id": "NaUNvUuyZA5Y"
      }
    },
    {
      "cell_type": "markdown",
      "source": [
        "PageRank algorithm using the iterative MapReduce approach, based on the reference material provided:"
      ],
      "metadata": {
        "id": "2smszerDaiaC"
      }
    },
    {
      "cell_type": "code",
      "source": [
        "from collections import defaultdict\n",
        "\n",
        "def pageRankIterativeMapReduce(pages, numIterations):\n",
        "  for i in range(numIterations):\n",
        "    pages = pageRankMapReduce(pages)\n",
        "  return pages\n",
        "\n",
        "def pageRankMapReduce(pages):\n",
        "  # Map phase\n",
        "  contributions = defaultdict(float)\n",
        "  for page in pages:\n",
        "    for q in page.outboundLinks:\n",
        "      contributions[q] += page.rank / len(page.outboundLinks)\n",
        "  # Reduce phase\n",
        "  for page in pages:\n",
        "    page.rank = (1 - DAMPING_FACTOR) / len(pages)\n",
        "    for q in page.inboundLinks:\n",
        "      page.rank += DAMPING_FACTOR * contributions[q] / len(q.outboundLinks)\n",
        "  return pages\n"
      ],
      "metadata": {
        "id": "oZQOfAkUawRR"
      },
      "execution_count": null,
      "outputs": []
    },
    {
      "cell_type": "markdown",
      "source": [
        "In this implementation, the pageRankMapReduce function represents a single iteration of the PageRank algorithm. The pageRankIterativeMapReduce function runs multiple iterations of the algorithm by calling pageRankMapReduce in a loop.\n",
        "\n",
        "The PageRank algorithm is an iterative process that is used to rank the importance of pages on the internet. The algorithm assigns a score (called the \"PageRank\") to each page, based on the number and quality of links pointing to the page. Pages with a higher PageRank are considered more important and are more likely to appear at the top of search results.\n",
        "\n",
        "The pageRankMapReduce function has two phases: the map phase and the reduce phase.\n",
        "\n",
        "In the map phase, the function iterates over the pages and calculates a contribution to the rank of each page that the current page links to. The contribution is equal to the current page's rank divided by the number of outbound links it has. These contributions are stored in a defaultdict with the page as the key and the contribution as the value.\n",
        "\n",
        "In the reduce phase, the function iterates over the pages again and updates each page's rank using the contributions stored in the defaultdict. The rank of each page is updated using the following formula:\n",
        "\n",
        "page.rank = (1 - DAMPING_FACTOR) / len(pages) + DAMPING_FACTOR * sum(contributions[q] / len(q.outboundLinks) for q in page.inboundLinks)\n",
        "\n",
        "This formula combines the damping factor (which determines the importance of the page's own rank versus the ranks of the pages it links to), the number of pages, and the contributions from the pages that link to the current page.\n",
        "\n",
        " DAMPING_FACTOR is a damping factor that is used to damp the influence of pages that have a lot of outbound links. It is a constant with a value between 0 and 1, typically set to 0.85. The idea behind the damping factor is to prevent pages with many outbound links from having too much influence on the PageRank of other pages.\n",
        "\n",
        "Finally, the function returns the updated list of pages."
      ],
      "metadata": {
        "id": "36szHts1hIuh"
      }
    },
    {
      "cell_type": "markdown",
      "source": [
        "##**6. Algorithmic Question**"
      ],
      "metadata": {
        "id": "midnWt3uZJk0"
      }
    },
    {
      "cell_type": "markdown",
      "metadata": {
        "id": "69e17085"
      },
      "source": [
        "The idea is to create a **grid graph 3x3** with the library **NetworkX** and obtain all possible simple paths (i.e. paths with no repeated nodes) between pairs of nodes using  and consider the tuples indicating the nodes as coordinates. In this way we can take the tuple pairs in the individual paths and convert them into lists of strings with directions and then count the  complete matches of the input with the paths available."
      ]
    },
    {
      "cell_type": "code",
      "execution_count": null,
      "metadata": {
        "id": "e861c1a7"
      },
      "outputs": [],
      "source": [
        "#import needed libraries\n",
        "import networkx as nx\n",
        "import matplotlib.pyplot as plt"
      ]
    },
    {
      "cell_type": "code",
      "execution_count": null,
      "metadata": {
        "id": "b84b93d0",
        "outputId": "f5858596-152b-43ce-c16e-0161047998dc"
      },
      "outputs": [
        {
          "data": {
            "image/png": "[encoded data removed]",
            "text/plain": [
              "<Figure size 432x432 with 1 Axes>"
            ]
          },
          "metadata": {},
          "output_type": "display_data"
        }
      ],
      "source": [
        "#create a 2D grid graph\n",
        "G = nx.grid_2d_graph(3,3)\n",
        "#plot it\n",
        "plt.figure(figsize=(6,6))\n",
        "pos = {(x,y):(y,-x) for x,y in G.nodes()}\n",
        "nx.draw(G, pos=pos, \n",
        "        node_color='plum', \n",
        "        with_labels=True,\n",
        "        node_size=600)"
      ]
    },
    {
      "cell_type": "code",
      "execution_count": null,
      "metadata": {
        "id": "c4b0820e",
        "outputId": "17221439-0c90-4960-e523-443a1f087bb6"
      },
      "outputs": [
        {
          "data": {
            "text/plain": [
              "NodeView(((0, 0), (0, 1), (0, 2), (1, 0), (1, 1), (1, 2), (2, 0), (2, 1), (2, 2)))"
            ]
          },
          "execution_count": 6,
          "metadata": {},
          "output_type": "execute_result"
        }
      ],
      "source": [
        "G.nodes #check nodes name that could be used as coordinates"
      ]
    },
    {
      "cell_type": "code",
      "execution_count": null,
      "metadata": {
        "scrolled": true,
        "id": "b641f7d4"
      },
      "outputs": [],
      "source": [
        "#create a dictionary to store the paths for each pair of nodes\n",
        "paths = {}\n",
        "\n",
        "#compute the simple paths between all pairs of nodes\n",
        "for node1 in G.nodes:\n",
        "    for node2 in G.nodes:\n",
        "        if node1 != node2:  #skip pairs of the same node\n",
        "            simple_paths = list(nx.all_simple_paths(G, node1, node2))\n",
        "            #store the paths in the path dictionary using the tuple of nodes as key\n",
        "            paths[(node1, node2)] = simple_paths\n"
      ]
    },
    {
      "cell_type": "markdown",
      "metadata": {
        "id": "39539ce8"
      },
      "source": [
        "**The rationale used provides that:**\n",
        "\n",
        "\n",
        "-If the first coordinate of the first and the second node are is equal and the second is greater in the case of the second node the movement will be to the right (R) or otherwise it will be to te left (L).\n",
        "\n",
        "\n",
        "-If the second coordinate of the first and second node are equal while the first is greater in the second node the movement will be down (D) otherwise up (U)."
      ]
    },
    {
      "cell_type": "code",
      "execution_count": null,
      "metadata": {
        "scrolled": false,
        "id": "c01b6850"
      },
      "outputs": [],
      "source": [
        "#create a new dictionary to store the paths in terms of directions\n",
        "direction_paths = {}\n",
        "\n",
        "#iterate over the keys and values in the paths dictionary\n",
        "for (node1, node2), paths in paths.items():\n",
        "    direction_paths_ = []\n",
        "    #iterate over the paths\n",
        "    for path in paths:\n",
        "        directions = []\n",
        "        #iterate over the nodes in the path\n",
        "        for i in range(len(path) - 1):\n",
        "            current_node = path[i]\n",
        "            next_node = path[i + 1]\n",
        "            #find directions associated to a couple of nodes in each path\n",
        "            if current_node[0] == next_node[0] and next_node[1] > current_node[1]:\n",
        "                direction = 'R' #right\n",
        "            elif current_node[0] == next_node[0] and next_node[1] < current_node[1]:\n",
        "                direction = 'L' #left\n",
        "            elif current_node[1] == next_node[1] and next_node[0] > current_node[0]:\n",
        "                direction = 'D' #down\n",
        "            elif current_node[1] == next_node[1] and next_node[0] < current_node[0]:\n",
        "                direction = 'U' #up\n",
        "            directions.append(direction)\n",
        "        direction_paths_.append(directions)\n",
        "    #store the list of direction paths for this pair of nodes in the dictionary\n",
        "    direction_paths[(node1, node2)] = direction_paths_ "
      ]
    },
    {
      "cell_type": "markdown",
      "metadata": {
        "id": "3836755c"
      },
      "source": [
        "The created dictionary contains duplicates that cannot match with the possible inputs so it's necessary to remove adjacent duplicate letters"
      ]
    },
    {
      "cell_type": "code",
      "execution_count": null,
      "metadata": {
        "id": "7d815b7f"
      },
      "outputs": [],
      "source": [
        "#create a new dictionary to store the deduplicated paths\n",
        "deduplicated_paths = {}\n",
        "\n",
        "#iterate over the keys and values in the direction_paths dictionary\n",
        "for (node1, node2), paths in direction_paths.items():\n",
        "    deduplicated_paths_ = []\n",
        "    #iterate over the paths\n",
        "    for path in paths:\n",
        "        deduplicated_path = [letter for i, letter in enumerate(path) if path[i] != path[i-1]]\n",
        "        deduplicated_paths_.append(deduplicated_path)\n",
        "    #store the list of deduplicated paths for this pair of nodes in the dictionary\n",
        "    deduplicated_paths[(node1, node2)] = deduplicated_paths_\n"
      ]
    },
    {
      "cell_type": "markdown",
      "metadata": {
        "id": "ad152994"
      },
      "source": [
        "#### Function to count paths given as input the deduplicated dictionary and an input string"
      ]
    },
    {
      "cell_type": "code",
      "execution_count": null,
      "metadata": {
        "scrolled": true,
        "id": "051aacce"
      },
      "outputs": [],
      "source": [
        "#create a function that given an input returns the number of paths\n",
        "def count_paths(dedup_paths, input_string):\n",
        "    count = 0\n",
        "    #iterate over the keys and values in the direction_paths dictionary\n",
        "    for (node1, node2), paths in deduplicated_paths.items():\n",
        "    #iterate over the paths\n",
        "        for path in paths:\n",
        "        #check if the input string is equal to the path tranformed from list to string\n",
        "            if input_string ==\"\".join(path):\n",
        "            #add one to the counter\n",
        "                count+=1\n",
        "            \n",
        "    return count\n"
      ]
    },
    {
      "cell_type": "markdown",
      "metadata": {
        "id": "24c14c20"
      },
      "source": [
        "#### Try with different inputs"
      ]
    },
    {
      "cell_type": "code",
      "execution_count": null,
      "metadata": {
        "id": "ea679339",
        "outputId": "492c5c2b-4585-4c1c-aec8-29ebe74f39d4"
      },
      "outputs": [
        {
          "name": "stdout",
          "output_type": "stream",
          "text": [
            "DRU\n"
          ]
        },
        {
          "data": {
            "text/plain": [
              "15"
            ]
          },
          "execution_count": 182,
          "metadata": {},
          "output_type": "execute_result"
        }
      ],
      "source": [
        "input_string = input()\n",
        "dedup_paths = deduplicated_paths\n",
        "count_paths(dedup_paths, input_string)"
      ]
    },
    {
      "cell_type": "code",
      "execution_count": null,
      "metadata": {
        "id": "dbee566c",
        "outputId": "a5f45fe9-3f13-4052-cd90-9930da1462b5"
      },
      "outputs": [
        {
          "name": "stdout",
          "output_type": "stream",
          "text": [
            "R\n"
          ]
        },
        {
          "data": {
            "text/plain": [
              "9"
            ]
          },
          "execution_count": 183,
          "metadata": {},
          "output_type": "execute_result"
        }
      ],
      "source": [
        "input_string = input()\n",
        "count_paths(dedup_paths, input_string)"
      ]
    },
    {
      "cell_type": "code",
      "execution_count": null,
      "metadata": {
        "id": "c92ea2fa",
        "outputId": "778c54a2-4a77-4916-9145-9efafcc43b11"
      },
      "outputs": [
        {
          "name": "stdout",
          "output_type": "stream",
          "text": [
            "LDRDRUL\n"
          ]
        },
        {
          "data": {
            "text/plain": [
              "0"
            ]
          },
          "execution_count": 184,
          "metadata": {},
          "output_type": "execute_result"
        }
      ],
      "source": [
        "input_string = input()\n",
        "count_paths(dedup_paths, input_string)"
      ]
    },
    {
      "cell_type": "code",
      "execution_count": null,
      "metadata": {
        "id": "88dba500",
        "outputId": "d41a054d-2ccf-43d4-d373-45d6fd54d2c8"
      },
      "outputs": [
        {
          "name": "stdout",
          "output_type": "stream",
          "text": [
            "ULDR\n"
          ]
        },
        {
          "data": {
            "text/plain": [
              "9"
            ]
          },
          "execution_count": 186,
          "metadata": {},
          "output_type": "execute_result"
        }
      ],
      "source": [
        "input_string = input()\n",
        "count_paths(dedup_paths, input_string)"
      ]
    },
    {
      "cell_type": "code",
      "execution_count": null,
      "metadata": {
        "id": "0941cbb5",
        "outputId": "efb57acf-d020-4b4a-a043-094f61c1246c"
      },
      "outputs": [
        {
          "name": "stdout",
          "output_type": "stream",
          "text": [
            "RDULULRD\n"
          ]
        },
        {
          "data": {
            "text/plain": [
              "0"
            ]
          },
          "execution_count": 187,
          "metadata": {},
          "output_type": "execute_result"
        }
      ],
      "source": [
        "input_string = input()\n",
        "count_paths(dedup_paths, input_string)"
      ]
    }
  ]
}